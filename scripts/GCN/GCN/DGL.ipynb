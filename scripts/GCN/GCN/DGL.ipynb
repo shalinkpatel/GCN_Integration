{
 "cells": [
  {
   "cell_type": "code",
   "execution_count": 1,
   "metadata": {},
   "outputs": [],
   "source": [
    "config = {\n",
    "    'shuffle': False,\n",
    "    'cell_type': 'E118'\n",
    "}"
   ]
  },
  {
   "cell_type": "code",
   "execution_count": null,
   "metadata": {},
   "outputs": [
    {
     "name": "stderr",
     "output_type": "stream",
     "text": [
      "Using backend: pytorch\n"
     ]
    }
   ],
   "source": [
    "import dgl\n",
    "import networkx as nx\n",
    "import pickle\n",
    "import torch\n",
    "import torch.nn as nn\n",
    "import torch.nn.functional as F\n",
    "import numpy as np\n",
    "import hypertunity as ht\n",
    "from sklearn import preprocessing\n",
    "\n",
    "with open('/gpfs_home/spate116/data/spate116/GCN/%s/data/data_class1.pickle' % config['cell_type'], 'rb') as f:\n",
    "    data = pickle.load(f)\n",
    "    \n",
    "with open('/gpfs_home/spate116/data/spate116/GCN/%s/data/data_embedding.pickle' % config['cell_type'], 'rb') as f:\n",
    "    data_embedding = pickle.load(f)\n",
    "\n",
    "edges = data.edge_index.t()\n",
    "adj = list(map(lambda x: (x[0].item(), x[1].item()), edges))\n",
    "\n",
    "graph = nx.read_gpickle(\"/gpfs_home/spate116/data/spate116/GCN/%s/data/graph.pickle\" % config['cell_type'])\n",
    "weights = [x[2] for x in graph.edges.data('weight')]\n",
    "robust_scaler = preprocessing.RobustScaler()\n",
    "weights = np.ndarray.flatten(robust_scaler.fit_transform(np.array(weights).reshape(-1, 1)))\n",
    "\n",
    "y = torch.tensor(list(map(lambda x: x[0], data.y)), dtype=torch.long)\n",
    "\n",
    "G = dgl.DGLGraph(adj)\n",
    "\n",
    "if config['shuffle']:\n",
    "    import random\n",
    "    random.seed(30)\n",
    "    idx = list(range(len(G.nodes)))\n",
    "    random.shuffle(idx)\n",
    "    data_embedding = data_embedding[idx]\n",
    "    y = y[idx]\n",
    "\n",
    "G.ndata['feat'] = data_embedding\n",
    "G.ndata['expr'] = y\n",
    "G.edata['weight'] = torch.tensor(weights, dtype=torch.float)"
   ]
  },
  {
   "cell_type": "code",
   "execution_count": null,
   "metadata": {},
   "outputs": [],
   "source": [
    "tot_weights = []\n",
    "for i in range(len(G.nodes)):\n",
    "    tmp = 1 if len(G.out_edges(i)[1]) == 0 else sum(list(map(lambda x: G.edges[i, x][0]['weight'][0].item(), G.out_edges(i)[1])))/len(G.out_edges(i)[1])\n",
    "    tmp = 1 if tmp == 0 else tmp\n",
    "    tot_weights.append(tmp)\n",
    "\n",
    "G.ndata['tot_weight'] = torch.tensor(tot_weights, dtype=torch.float)"
   ]
  },
  {
   "cell_type": "code",
   "execution_count": null,
   "metadata": {},
   "outputs": [],
   "source": [
    "def weighted_message(edges):\n",
    "    val = edges.src['h'] * edges.data['weight'][:, None] / edges.dst['tot_weight'][:, None]\n",
    "    return {'weighted': val}"
   ]
  },
  {
   "cell_type": "code",
   "execution_count": null,
   "metadata": {},
   "outputs": [],
   "source": [
    "import torch as th\n",
    "from torch import nn\n",
    "import dgl.function as fn\n",
    "\n",
    "class TAGConvWeight(nn.Module):\n",
    "    def __init__(self,\n",
    "                 in_feats,\n",
    "                 out_feats,\n",
    "                 k=1,\n",
    "                 bias=True,\n",
    "                 activation=None):\n",
    "        super(TAGConvWeight, self).__init__()\n",
    "        self._in_feats = in_feats\n",
    "        self._out_feats = out_feats\n",
    "        self._k = k\n",
    "        self._activation = activation\n",
    "        self.lin = nn.Linear(in_feats * (self._k + 1), out_feats, bias=bias)\n",
    "\n",
    "        self.reset_parameters()\n",
    "\n",
    "    def reset_parameters(self):\n",
    "        gain = nn.init.calculate_gain('relu')\n",
    "        nn.init.xavier_normal_(self.lin.weight, gain=gain)\n",
    "\n",
    "    def forward(self, graph, feat):\n",
    "        assert graph.is_homograph(), 'Graph is not homogeneous'\n",
    "        graph = graph.local_var()\n",
    "\n",
    "        norm = th.pow(graph.in_degrees().float().clamp(min=1), -0.5)\n",
    "        shp = norm.shape + (1,) * (feat.dim() - 1)\n",
    "        norm = th.reshape(norm, shp).to(feat.device)\n",
    "\n",
    "        #D-1/2 A D -1/2 X\n",
    "        fstack = [feat]\n",
    "        for _ in range(self._k):\n",
    "\n",
    "            rst = fstack[-1] * norm\n",
    "            graph.ndata['h'] = rst\n",
    "\n",
    "            graph.update_all(weighted_message, fn.sum('weighted', 'h'))\n",
    "            rst = graph.ndata['h']\n",
    "            rst = rst * norm\n",
    "            fstack.append(rst)\n",
    "\n",
    "        rst = self.lin(th.cat(fstack, dim=-1))\n",
    "\n",
    "        if self._activation is not None:\n",
    "            rst = self._activation(rst)\n",
    "\n",
    "        return rst"
   ]
  },
  {
   "cell_type": "code",
   "execution_count": null,
   "metadata": {},
   "outputs": [],
   "source": [
    "from dgl.nn.pytorch import SAGEConv, GraphConv, ChebConv, TAGConv, GATConv\n",
    "\n",
    "class GCN(nn.Module):\n",
    "    def __init__(self, in_feats, hidden_size, hidden_size1, hidden_size2, hidden_size3, hidden_size4, num_classes):\n",
    "        super(GCN, self).__init__()\n",
    "        self.conv1 = SAGEConv(in_feats, hidden_size, aggregator_type='pool', activation=F.tanh)\n",
    "        self.conv2 = ChebConv(hidden_size, hidden_size1, 5)\n",
    "        self.conv3 = TAGConv(hidden_size1, hidden_size2, activation=F.leaky_relu)\n",
    "        self.conv4 = SAGEConv(hidden_size2, hidden_size3, aggregator_type='pool', activation=F.tanh)\n",
    "        self.conv5 = ChebConv(hidden_size3, hidden_size4, 5)\n",
    "        self.conv6 = TAGConv(hidden_size4, num_classes, activation=F.leaky_relu)\n",
    "\n",
    "    def forward(self, g, inputs):\n",
    "        h = self.conv1(g, inputs)\n",
    "        h = torch.tanh(h)\n",
    "        h = F.dropout(h, training=self.training)\n",
    "        h = self.conv2(g, h)\n",
    "        h = torch.tanh(h)\n",
    "        h = F.dropout(h, training=self.training)\n",
    "        h = self.conv3(g, h)\n",
    "        h = torch.tanh(h)\n",
    "        h = F.dropout(h, training=self.training)\n",
    "        h = self.conv4(g, h)\n",
    "        h = torch.tanh(h)\n",
    "        h = F.dropout(h, training=self.training)\n",
    "        h = self.conv5(g, h)\n",
    "        h = torch.tanh(h)\n",
    "        h = F.dropout(h, training=self.training)\n",
    "        h = self.conv6(g, h)\n",
    "        h = torch.sigmoid(h)\n",
    "        return h"
   ]
  },
  {
   "cell_type": "code",
   "execution_count": null,
   "metadata": {},
   "outputs": [],
   "source": [
    "from tqdm import tqdm\n",
    "from sklearn.metrics import roc_auc_score, roc_curve\n",
    "\n",
    "device = torch.device('cuda')\n",
    "def train_model(net, graph, epochs, learning_rate, train_mask, test_mask):\n",
    "    model = net.to(device)\n",
    "    graph = graph.to(device)\n",
    "    samples = len(graph.ndata['expr'])\n",
    "    correct = graph.ndata['expr'].cpu().numpy().tolist()\n",
    "\n",
    "    optimizer = torch.optim.Adam(model.parameters(), lr=learning_rate)\n",
    "    scheduler = torch.optim.lr_scheduler.ReduceLROnPlateau(optimizer)\n",
    "    losses_train = []\n",
    "    losses_test = []\n",
    "    best_auc = -1\n",
    "    correct_pred = [G.ndata['expr'].cpu().numpy()[i] for i in test_mask]\n",
    "    \n",
    "    weight_one = sum(G.ndata['expr'].cpu().numpy().tolist())/samples\n",
    "    weight = torch.tensor([weight_one, 1-weight_one]).to(device)\n",
    "    \n",
    "    pbar = tqdm(range(epochs))\n",
    "    for epoch in pbar:\n",
    "        model.train()\n",
    "        logits = model(graph, graph.ndata['feat'].float())\n",
    "\n",
    "        loss = F.cross_entropy(logits[train_mask], graph.ndata['expr'][train_mask], weight=weight)\n",
    "        loss_test = F.cross_entropy(logits[test_mask], graph.ndata['expr'][test_mask], weight=weight)\n",
    "        losses_train.append(loss.item())\n",
    "        losses_test.append(loss_test.item())\n",
    "\n",
    "        optimizer.zero_grad()\n",
    "        loss.backward()\n",
    "        optimizer.step()\n",
    "        \n",
    "        model.eval()\n",
    "        pred = list(map(lambda x: np.argmax(x, axis = 0), torch.exp(F.log_softmax(logits, 1)).cpu().detach().numpy()))\n",
    "        auc = roc_auc_score(correct_pred, [pred[i] for i in test_mask], average='weighted')\n",
    "        best_auc = best_auc if best_auc > auc else auc\n",
    "\n",
    "        pbar.set_description('Best Test AUC: %.4f | Train Loss: %.4f | Test Loss: %.4f' % (best_auc, loss.item(), loss_test.item()))\n",
    "            \n",
    "    return losses_train, losses_test, model"
   ]
  },
  {
   "cell_type": "code",
   "execution_count": null,
   "metadata": {},
   "outputs": [],
   "source": [
    "import random\n",
    "random.seed(30)\n",
    "idx = list(range(len(G.nodes)))\n",
    "random.shuffle(idx)\n",
    "train_mask = idx[:10000]\n",
    "test_mask = idx[10000:]"
   ]
  },
  {
   "cell_type": "code",
   "execution_count": null,
   "metadata": {},
   "outputs": [],
   "source": [
    "net = GCN(94, 1250, 750, 250, 100, 25, 2)\n",
    "\n",
    "# 0.8220\n",
    "losses_train, losses_test, model = train_model(net, G, 1250, 0.0001, train_mask, test_mask)"
   ]
  },
  {
   "cell_type": "code",
   "execution_count": 9,
   "metadata": {},
   "outputs": [
    {
     "data": {
      "text/plain": [
       "Text(0.5, 1.0, 'nll_loss')"
      ]
     },
     "execution_count": 9,
     "metadata": {},
     "output_type": "execute_result"
    },
    {
     "data": {
      "image/png": "[encoded data removed]",
      "text/plain": [
       "<Figure size 1200x800 with 1 Axes>"
      ]
     },
     "metadata": {
      "needs_background": "light"
     },
     "output_type": "display_data"
    }
   ],
   "source": [
    "import matplotlib\n",
    "import matplotlib.pyplot as plt\n",
    "import seaborn as sns\n",
    "from IPython.display import set_matplotlib_formats\n",
    "%matplotlib inline\n",
    "set_matplotlib_formats('png')\n",
    "matplotlib.rcParams['figure.dpi'] = 200\n",
    "\n",
    "plt = sns.lineplot(x = range(len(losses_train)), y = losses_train)\n",
    "sns.lineplot(x = range(len(losses_train)), y = losses_test)\n",
    "plt.set_title(\"nll_loss\")"
   ]
  },
  {
   "cell_type": "code",
   "execution_count": 10,
   "metadata": {},
   "outputs": [
    {
     "name": "stdout",
     "output_type": "stream",
     "text": [
      "Test Acc: 0.90738940\n",
      "Total Acc: 0.92199235\n",
      "\n",
      "Test AUC: 0.90687458\n",
      "Total AUC: 0.92165635\n"
     ]
    }
   ],
   "source": [
    "model.eval()\n",
    "logits = model(G, G.ndata[\"feat\"].float())\n",
    "pred = list(map(lambda x: np.argmax(x, axis = 0), torch.exp(F.log_softmax(logits, 1)).cpu().detach().numpy()))\n",
    "\n",
    "print(\"Test Acc: %.8f\" % (sum(np.array([G.ndata['expr'].cpu().numpy()[i] for i in test_mask]) == np.array([pred[i] for i in test_mask]))/len(test_mask)))\n",
    "print(\"Total Acc: %.8f\" % (sum(G.ndata['expr'].cpu().numpy() == pred)/len(G.nodes)))\n",
    "print()\n",
    "print(\"Test AUC: %.8f\" % (roc_auc_score([G.ndata['expr'].cpu().numpy()[i] for i in test_mask], [pred[i] for i in test_mask], average='weighted')))\n",
    "print(\"Total AUC: %.8f\" % (roc_auc_score(G.ndata['expr'].cpu().numpy(), pred, average='weighted')))\n",
    "\n",
    "torch.save(torch.tensor(logits, dtype=torch.float), \"/gpfs_home/spate116/data/spate116/GCN/%s/data/pred.pt\" % config['cell_type'])"
   ]
  },
  {
   "cell_type": "code",
   "execution_count": 11,
   "metadata": {},
   "outputs": [],
   "source": [
    "torch.save(model, \"/gpfs_home/spate116/data/spate116/GCN/%s/res/best_run.model\" % config['cell_type'])"
   ]
  }
 ],
 "metadata": {
  "kernelspec": {
   "display_name": "Python 3",
   "language": "python",
   "name": "python3"
  },
  "language_info": {
   "codemirror_mode": {
    "name": "ipython",
    "version": 3
   },
   "file_extension": ".py",
   "mimetype": "text/x-python",
   "name": "python",
   "nbconvert_exporter": "python",
   "pygments_lexer": "ipython3",
   "version": "3.7.4"
  }
 },
 "nbformat": 4,
 "nbformat_minor": 4
}
