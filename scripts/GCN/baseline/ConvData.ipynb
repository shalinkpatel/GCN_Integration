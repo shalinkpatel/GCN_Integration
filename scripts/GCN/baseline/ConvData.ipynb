{
 "cells": [
  {
   "cell_type": "code",
   "execution_count": 1,
   "metadata": {},
   "outputs": [],
   "source": [
    "import pickle\n",
    "import numpy as np\n",
    "\n",
    "with open('/gpfs_home/spate116/data/spate116/GCN/E116/data/data_class1_unflattened.pickle', 'rb') as f:\n",
    "    data_unflattened = pickle.load(f)"
   ]
  },
  {
   "cell_type": "code",
   "execution_count": 2,
   "metadata": {},
   "outputs": [],
   "source": [
    "import random\n",
    "random.seed(30)\n",
    "idx = list(range(data_unflattened.x.shape[0]))\n",
    "random.shuffle(idx)\n",
    "train_mask = idx[:9000]\n",
    "valid_mask = idx[9000:10000]\n",
    "test_mask = idx[10000:]"
   ]
  },
  {
   "cell_type": "code",
   "execution_count": 3,
   "metadata": {},
   "outputs": [],
   "source": [
    "training_data_x = data_unflattened.x[train_mask].long()\n",
    "training_data_y = data_unflattened.y[train_mask].long()\n",
    "\n",
    "rows = []\n",
    "for idx in range(training_data_x.shape[0]):\n",
    "    for idx2 in range(training_data_x.shape[1]):\n",
    "        new_row = [idx, idx2+1]\n",
    "        for x in training_data_x[idx][idx2]:\n",
    "            new_row.append(x.item())\n",
    "        new_row.append(training_data_y[idx].item())\n",
    "        rows.append(new_row)\n",
    "        \n",
    "import csv\n",
    "with open('train.csv', 'w') as file:\n",
    "    csvwriter = csv.writer(file)\n",
    "    csvwriter.writerows(rows)"
   ]
  },
  {
   "cell_type": "code",
   "execution_count": 4,
   "metadata": {},
   "outputs": [],
   "source": [
    "valid_data_x = data_unflattened.x[valid_mask].long()\n",
    "valid_data_y = data_unflattened.y[valid_mask].long()\n",
    "\n",
    "rows = []\n",
    "for idx in range(valid_data_x.shape[0]):\n",
    "    for idx2 in range(valid_data_x.shape[1]):\n",
    "        new_row = [idx, idx2+1]\n",
    "        for x in valid_data_x[idx][idx2]:\n",
    "            new_row.append(x.item())\n",
    "        new_row.append(valid_data_y[idx].item())\n",
    "        rows.append(new_row)\n",
    "        \n",
    "import csv\n",
    "with open('valid.csv', 'w') as file:\n",
    "    csvwriter = csv.writer(file)\n",
    "    csvwriter.writerows(rows)"
   ]
  },
  {
   "cell_type": "code",
   "execution_count": 5,
   "metadata": {},
   "outputs": [],
   "source": [
    "test_data_x = data_unflattened.x[test_mask].long()\n",
    "test_data_y = data_unflattened.y[test_mask].long()\n",
    "\n",
    "rows = []\n",
    "for idx in range(test_data_x.shape[0]):\n",
    "    for idx2 in range(test_data_x.shape[1]):\n",
    "        new_row = [idx, idx2+1]\n",
    "        for x in test_data_x[idx][idx2]:\n",
    "            new_row.append(x.item())\n",
    "        new_row.append(test_data_y[idx].item())\n",
    "        rows.append(new_row)\n",
    "        \n",
    "import csv\n",
    "with open('test.csv', 'w') as file:\n",
    "    csvwriter = csv.writer(file)\n",
    "    csvwriter.writerows(rows)"
   ]
  }
 ],
 "metadata": {
  "kernelspec": {
   "display_name": "Python 3",
   "language": "python",
   "name": "python3"
  },
  "language_info": {
   "codemirror_mode": {
    "name": "ipython",
    "version": 3
   },
   "file_extension": ".py",
   "mimetype": "text/x-python",
   "name": "python",
   "nbconvert_exporter": "python",
   "pygments_lexer": "ipython3",
   "version": "3.7.4"
  }
 },
 "nbformat": 4,
 "nbformat_minor": 4
}
