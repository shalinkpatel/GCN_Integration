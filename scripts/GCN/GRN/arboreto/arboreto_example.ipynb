{
 "cells": [
  {
   "cell_type": "code",
   "execution_count": 1,
   "metadata": {},
   "outputs": [],
   "source": [
    "import os\n",
    "import pandas as pd\n",
    "%load_ext memory_profiler\n",
    "\n",
    "from arboreto.algo import grnboost2, genie3\n",
    "from arboreto.utils import load_tf_names"
   ]
  },
  {
   "cell_type": "code",
   "execution_count": 2,
   "metadata": {},
   "outputs": [],
   "source": [
    "ex_matrix = pd.read_csv('~/scratch/net1_expression_data.tsv', sep='\\t')"
   ]
  },
  {
   "cell_type": "code",
   "execution_count": 3,
   "metadata": {},
   "outputs": [
    {
     "name": "stdout",
     "output_type": "stream",
     "text": [
      "(805, 1643)\n"
     ]
    },
    {
     "data": {
      "text/html": [
       "<div>\n",
       "<style scoped>\n",
       "    .dataframe tbody tr th:only-of-type {\n",
       "        vertical-align: middle;\n",
       "    }\n",
       "\n",
       "    .dataframe tbody tr th {\n",
       "        vertical-align: top;\n",
       "    }\n",
       "\n",
       "    .dataframe thead th {\n",
       "        text-align: right;\n",
       "    }\n",
       "</style>\n",
       "<table border=\"1\" class=\"dataframe\">\n",
       "  <thead>\n",
       "    <tr style=\"text-align: right;\">\n",
       "      <th></th>\n",
       "      <th>G1</th>\n",
       "      <th>G2</th>\n",
       "      <th>G3</th>\n",
       "      <th>G4</th>\n",
       "      <th>G5</th>\n",
       "      <th>G6</th>\n",
       "      <th>G7</th>\n",
       "      <th>G8</th>\n",
       "      <th>G9</th>\n",
       "      <th>G10</th>\n",
       "      <th>...</th>\n",
       "      <th>G1634</th>\n",
       "      <th>G1635</th>\n",
       "      <th>G1636</th>\n",
       "      <th>G1637</th>\n",
       "      <th>G1638</th>\n",
       "      <th>G1639</th>\n",
       "      <th>G1640</th>\n",
       "      <th>G1641</th>\n",
       "      <th>G1642</th>\n",
       "      <th>G1643</th>\n",
       "    </tr>\n",
       "  </thead>\n",
       "  <tbody>\n",
       "    <tr>\n",
       "      <th>0</th>\n",
       "      <td>0.425448</td>\n",
       "      <td>0.017829</td>\n",
       "      <td>0.907989</td>\n",
       "      <td>0.448247</td>\n",
       "      <td>0.172324</td>\n",
       "      <td>0.273489</td>\n",
       "      <td>0.843766</td>\n",
       "      <td>0.648201</td>\n",
       "      <td>1.004533</td>\n",
       "      <td>0.365305</td>\n",
       "      <td>...</td>\n",
       "      <td>0.011979</td>\n",
       "      <td>0.963306</td>\n",
       "      <td>1.169870</td>\n",
       "      <td>0.331381</td>\n",
       "      <td>0.350600</td>\n",
       "      <td>0.822844</td>\n",
       "      <td>0.304483</td>\n",
       "      <td>0.319917</td>\n",
       "      <td>0.364280</td>\n",
       "      <td>0.765945</td>\n",
       "    </tr>\n",
       "    <tr>\n",
       "      <th>1</th>\n",
       "      <td>0.442400</td>\n",
       "      <td>0.050525</td>\n",
       "      <td>0.869368</td>\n",
       "      <td>0.445851</td>\n",
       "      <td>0.173311</td>\n",
       "      <td>0.274889</td>\n",
       "      <td>0.764049</td>\n",
       "      <td>0.747870</td>\n",
       "      <td>1.022589</td>\n",
       "      <td>0.434106</td>\n",
       "      <td>...</td>\n",
       "      <td>0.022247</td>\n",
       "      <td>1.014137</td>\n",
       "      <td>0.888465</td>\n",
       "      <td>0.281649</td>\n",
       "      <td>0.485940</td>\n",
       "      <td>0.915617</td>\n",
       "      <td>0.317507</td>\n",
       "      <td>0.238074</td>\n",
       "      <td>0.509130</td>\n",
       "      <td>0.691403</td>\n",
       "    </tr>\n",
       "    <tr>\n",
       "      <th>2</th>\n",
       "      <td>1.056847</td>\n",
       "      <td>0.208454</td>\n",
       "      <td>0.467448</td>\n",
       "      <td>0.505077</td>\n",
       "      <td>0.244883</td>\n",
       "      <td>0.208451</td>\n",
       "      <td>0.665355</td>\n",
       "      <td>1.192092</td>\n",
       "      <td>0.824068</td>\n",
       "      <td>0.146987</td>\n",
       "      <td>...</td>\n",
       "      <td>0.422066</td>\n",
       "      <td>0.895203</td>\n",
       "      <td>1.028826</td>\n",
       "      <td>0.825126</td>\n",
       "      <td>0.444819</td>\n",
       "      <td>0.349069</td>\n",
       "      <td>0.042310</td>\n",
       "      <td>0.165208</td>\n",
       "      <td>0.952178</td>\n",
       "      <td>0.678781</td>\n",
       "    </tr>\n",
       "    <tr>\n",
       "      <th>3</th>\n",
       "      <td>1.117226</td>\n",
       "      <td>0.003001</td>\n",
       "      <td>0.317654</td>\n",
       "      <td>0.387204</td>\n",
       "      <td>0.253792</td>\n",
       "      <td>0.179360</td>\n",
       "      <td>0.939244</td>\n",
       "      <td>0.868668</td>\n",
       "      <td>0.963028</td>\n",
       "      <td>0.233785</td>\n",
       "      <td>...</td>\n",
       "      <td>0.001163</td>\n",
       "      <td>1.046540</td>\n",
       "      <td>1.058098</td>\n",
       "      <td>0.484225</td>\n",
       "      <td>0.150689</td>\n",
       "      <td>0.449126</td>\n",
       "      <td>0.125197</td>\n",
       "      <td>0.000047</td>\n",
       "      <td>0.878127</td>\n",
       "      <td>0.566691</td>\n",
       "    </tr>\n",
       "    <tr>\n",
       "      <th>4</th>\n",
       "      <td>0.971068</td>\n",
       "      <td>0.001056</td>\n",
       "      <td>0.354651</td>\n",
       "      <td>0.474532</td>\n",
       "      <td>0.207718</td>\n",
       "      <td>0.102833</td>\n",
       "      <td>0.745871</td>\n",
       "      <td>0.909753</td>\n",
       "      <td>1.151865</td>\n",
       "      <td>0.318988</td>\n",
       "      <td>...</td>\n",
       "      <td>0.000845</td>\n",
       "      <td>1.041745</td>\n",
       "      <td>1.061129</td>\n",
       "      <td>0.384363</td>\n",
       "      <td>0.326859</td>\n",
       "      <td>0.512270</td>\n",
       "      <td>0.261410</td>\n",
       "      <td>0.000156</td>\n",
       "      <td>0.883981</td>\n",
       "      <td>0.646715</td>\n",
       "    </tr>\n",
       "  </tbody>\n",
       "</table>\n",
       "<p>5 rows × 1643 columns</p>\n",
       "</div>"
      ],
      "text/plain": [
       "         G1        G2        G3        G4        G5        G6        G7  \\\n",
       "0  0.425448  0.017829  0.907989  0.448247  0.172324  0.273489  0.843766   \n",
       "1  0.442400  0.050525  0.869368  0.445851  0.173311  0.274889  0.764049   \n",
       "2  1.056847  0.208454  0.467448  0.505077  0.244883  0.208451  0.665355   \n",
       "3  1.117226  0.003001  0.317654  0.387204  0.253792  0.179360  0.939244   \n",
       "4  0.971068  0.001056  0.354651  0.474532  0.207718  0.102833  0.745871   \n",
       "\n",
       "         G8        G9       G10  ...     G1634     G1635     G1636     G1637  \\\n",
       "0  0.648201  1.004533  0.365305  ...  0.011979  0.963306  1.169870  0.331381   \n",
       "1  0.747870  1.022589  0.434106  ...  0.022247  1.014137  0.888465  0.281649   \n",
       "2  1.192092  0.824068  0.146987  ...  0.422066  0.895203  1.028826  0.825126   \n",
       "3  0.868668  0.963028  0.233785  ...  0.001163  1.046540  1.058098  0.484225   \n",
       "4  0.909753  1.151865  0.318988  ...  0.000845  1.041745  1.061129  0.384363   \n",
       "\n",
       "      G1638     G1639     G1640     G1641     G1642     G1643  \n",
       "0  0.350600  0.822844  0.304483  0.319917  0.364280  0.765945  \n",
       "1  0.485940  0.915617  0.317507  0.238074  0.509130  0.691403  \n",
       "2  0.444819  0.349069  0.042310  0.165208  0.952178  0.678781  \n",
       "3  0.150689  0.449126  0.125197  0.000047  0.878127  0.566691  \n",
       "4  0.326859  0.512270  0.261410  0.000156  0.883981  0.646715  \n",
       "\n",
       "[5 rows x 1643 columns]"
      ]
     },
     "execution_count": 3,
     "metadata": {},
     "output_type": "execute_result"
    }
   ],
   "source": [
    "print(ex_matrix.shape)\n",
    "ex_matrix.head()"
   ]
  },
  {
   "cell_type": "code",
   "execution_count": 4,
   "metadata": {},
   "outputs": [],
   "source": [
    "tf_names = pd.read_csv('~/scratch/net1_transcription_factors.tsv', sep='\\t', header=None).values.flatten().tolist()"
   ]
  },
  {
   "cell_type": "code",
   "execution_count": 5,
   "metadata": {},
   "outputs": [
    {
     "data": {
      "text/plain": [
       "195"
      ]
     },
     "execution_count": 5,
     "metadata": {},
     "output_type": "execute_result"
    }
   ],
   "source": [
    "len(tf_names)"
   ]
  },
  {
   "cell_type": "code",
   "execution_count": 6,
   "metadata": {},
   "outputs": [],
   "source": [
    "from dask_jobqueue import SLURMCluster\n",
    "from distributed import Client"
   ]
  },
  {
   "cell_type": "code",
   "execution_count": 7,
   "metadata": {},
   "outputs": [
    {
     "name": "stdout",
     "output_type": "stream",
     "text": [
      "#!/usr/bin/env bash\n",
      "\n",
      "#SBATCH -J dask-worker\n",
      "#SBATCH -p batch\n",
      "#SBATCH -n 1\n",
      "#SBATCH --cpus-per-task=31\n",
      "#SBATCH --mem=140G\n",
      "#SBATCH -t 00:30:00\n",
      "\n",
      "JOB_ID=${SLURM_JOB_ID%;*}\n",
      "\n",
      "/gpfs_home/spate116/ml/bin/python3.7 -m distributed.cli.dask_worker tcp://172.20.208.2:44148 --nthreads 1 --nprocs 31 --memory-limit 4.84GB --name name --nanny --death-timeout 60\n",
      "\n"
     ]
    }
   ],
   "source": [
    "cluster = SLURMCluster(\n",
    "    queue='batch',\n",
    "    cores=31,\n",
    "    processes=31,\n",
    "    memory=\"150 GB\"\n",
    ")\n",
    "\n",
    "print(cluster.job_script())"
   ]
  },
  {
   "cell_type": "code",
   "execution_count": 8,
   "metadata": {},
   "outputs": [],
   "source": [
    "cluster.scale(jobs=1)\n",
    "\n",
    "from dask.distributed import Client\n",
    "client = Client(cluster)"
   ]
  },
  {
   "cell_type": "code",
   "execution_count": 10,
   "metadata": {},
   "outputs": [
    {
     "data": {
      "text/html": [
       "<table style=\"border: 2px solid white;\">\n",
       "<tr>\n",
       "<td style=\"vertical-align: top; border: 0px solid white\">\n",
       "<h3 style=\"text-align: left;\">Client</h3>\n",
       "<ul style=\"text-align: left; list-style: none; margin: 0; padding: 0;\">\n",
       "  <li><b>Scheduler: </b>tcp://172.20.208.2:44148</li>\n",
       "  <li><b>Dashboard: </b><a href='http://172.20.208.2:8787/status' target='_blank'>http://172.20.208.2:8787/status</a>\n",
       "</ul>\n",
       "</td>\n",
       "<td style=\"vertical-align: top; border: 0px solid white\">\n",
       "<h3 style=\"text-align: left;\">Cluster</h3>\n",
       "<ul style=\"text-align: left; list-style:none; margin: 0; padding: 0;\">\n",
       "  <li><b>Workers: </b>25</li>\n",
       "  <li><b>Cores: </b>25</li>\n",
       "  <li><b>Memory: </b>121.00 GB</li>\n",
       "</ul>\n",
       "</td>\n",
       "</tr>\n",
       "</table>"
      ],
      "text/plain": [
       "<Client: 'tcp://172.20.208.2:44148' processes=25 threads=25, memory=121.00 GB>"
      ]
     },
     "execution_count": 10,
     "metadata": {},
     "output_type": "execute_result"
    }
   ],
   "source": [
    "client"
   ]
  },
  {
   "cell_type": "code",
   "execution_count": 11,
   "metadata": {},
   "outputs": [
    {
     "name": "stdout",
     "output_type": "stream",
     "text": [
      "peak memory: 540.16 MiB, increment: 364.23 MiB\n",
      "CPU times: user 42 s, sys: 2.12 s, total: 44.1 s\n",
      "Wall time: 12min 30s\n"
     ]
    }
   ],
   "source": [
    "%%time\n",
    "%%memit\n",
    "network = grnboost2(expression_data=ex_matrix.to_numpy(),\n",
    "                    gene_names=ex_matrix.columns,\n",
    "                    client_or_address=client)"
   ]
  },
  {
   "cell_type": "code",
   "execution_count": 12,
   "metadata": {
    "scrolled": true
   },
   "outputs": [
    {
     "data": {
      "text/html": [
       "<div>\n",
       "<style scoped>\n",
       "    .dataframe tbody tr th:only-of-type {\n",
       "        vertical-align: middle;\n",
       "    }\n",
       "\n",
       "    .dataframe tbody tr th {\n",
       "        vertical-align: top;\n",
       "    }\n",
       "\n",
       "    .dataframe thead th {\n",
       "        text-align: right;\n",
       "    }\n",
       "</style>\n",
       "<table border=\"1\" class=\"dataframe\">\n",
       "  <thead>\n",
       "    <tr style=\"text-align: right;\">\n",
       "      <th></th>\n",
       "      <th>TF</th>\n",
       "      <th>target</th>\n",
       "      <th>importance</th>\n",
       "    </tr>\n",
       "  </thead>\n",
       "  <tbody>\n",
       "    <tr>\n",
       "      <th>108</th>\n",
       "      <td>G109</td>\n",
       "      <td>G1406</td>\n",
       "      <td>154.637628</td>\n",
       "    </tr>\n",
       "    <tr>\n",
       "      <th>187</th>\n",
       "      <td>G188</td>\n",
       "      <td>G938</td>\n",
       "      <td>145.545418</td>\n",
       "    </tr>\n",
       "    <tr>\n",
       "      <th>1404</th>\n",
       "      <td>G1406</td>\n",
       "      <td>G109</td>\n",
       "      <td>141.415057</td>\n",
       "    </tr>\n",
       "    <tr>\n",
       "      <th>48</th>\n",
       "      <td>G49</td>\n",
       "      <td>G978</td>\n",
       "      <td>128.764061</td>\n",
       "    </tr>\n",
       "    <tr>\n",
       "      <th>15</th>\n",
       "      <td>G16</td>\n",
       "      <td>G687</td>\n",
       "      <td>122.192907</td>\n",
       "    </tr>\n",
       "  </tbody>\n",
       "</table>\n",
       "</div>"
      ],
      "text/plain": [
       "         TF target  importance\n",
       "108    G109  G1406  154.637628\n",
       "187    G188   G938  145.545418\n",
       "1404  G1406   G109  141.415057\n",
       "48      G49   G978  128.764061\n",
       "15      G16   G687  122.192907"
      ]
     },
     "execution_count": 12,
     "metadata": {},
     "output_type": "execute_result"
    }
   ],
   "source": [
    "network.head()"
   ]
  },
  {
   "cell_type": "code",
   "execution_count": 19,
   "metadata": {},
   "outputs": [],
   "source": [
    "network.to_csv('~/data/spate116/GCN/arb_ex.tsv', sep='\\t', header=True, index=False)"
   ]
  },
  {
   "cell_type": "code",
   "execution_count": 14,
   "metadata": {},
   "outputs": [],
   "source": [
    "client.close()\n",
    "cluster.close()"
   ]
  },
  {
   "cell_type": "code",
   "execution_count": 21,
   "metadata": {},
   "outputs": [],
   "source": [
    "load_check = pd.read_csv('~/data/spate116/GCN/arb_ex.tsv', sep='\\t')"
   ]
  },
  {
   "cell_type": "code",
   "execution_count": 22,
   "metadata": {},
   "outputs": [
    {
     "data": {
      "text/html": [
       "<div>\n",
       "<style scoped>\n",
       "    .dataframe tbody tr th:only-of-type {\n",
       "        vertical-align: middle;\n",
       "    }\n",
       "\n",
       "    .dataframe tbody tr th {\n",
       "        vertical-align: top;\n",
       "    }\n",
       "\n",
       "    .dataframe thead th {\n",
       "        text-align: right;\n",
       "    }\n",
       "</style>\n",
       "<table border=\"1\" class=\"dataframe\">\n",
       "  <thead>\n",
       "    <tr style=\"text-align: right;\">\n",
       "      <th></th>\n",
       "      <th>TF</th>\n",
       "      <th>target</th>\n",
       "      <th>importance</th>\n",
       "    </tr>\n",
       "  </thead>\n",
       "  <tbody>\n",
       "    <tr>\n",
       "      <th>0</th>\n",
       "      <td>G109</td>\n",
       "      <td>G1406</td>\n",
       "      <td>154.637628</td>\n",
       "    </tr>\n",
       "    <tr>\n",
       "      <th>1</th>\n",
       "      <td>G188</td>\n",
       "      <td>G938</td>\n",
       "      <td>145.545418</td>\n",
       "    </tr>\n",
       "    <tr>\n",
       "      <th>2</th>\n",
       "      <td>G1406</td>\n",
       "      <td>G109</td>\n",
       "      <td>141.415057</td>\n",
       "    </tr>\n",
       "    <tr>\n",
       "      <th>3</th>\n",
       "      <td>G49</td>\n",
       "      <td>G978</td>\n",
       "      <td>128.764061</td>\n",
       "    </tr>\n",
       "    <tr>\n",
       "      <th>4</th>\n",
       "      <td>G16</td>\n",
       "      <td>G687</td>\n",
       "      <td>122.192907</td>\n",
       "    </tr>\n",
       "  </tbody>\n",
       "</table>\n",
       "</div>"
      ],
      "text/plain": [
       "      TF target  importance\n",
       "0   G109  G1406  154.637628\n",
       "1   G188   G938  145.545418\n",
       "2  G1406   G109  141.415057\n",
       "3    G49   G978  128.764061\n",
       "4    G16   G687  122.192907"
      ]
     },
     "execution_count": 22,
     "metadata": {},
     "output_type": "execute_result"
    }
   ],
   "source": [
    "load_check.head()"
   ]
  }
 ],
 "metadata": {
  "kernelspec": {
   "display_name": "Python 3",
   "language": "python",
   "name": "python3"
  },
  "language_info": {
   "codemirror_mode": {
    "name": "ipython",
    "version": 3
   },
   "file_extension": ".py",
   "mimetype": "text/x-python",
   "name": "python",
   "nbconvert_exporter": "python",
   "pygments_lexer": "ipython3",
   "version": "3.7.4"
  }
 },
 "nbformat": 4,
 "nbformat_minor": 4
}
