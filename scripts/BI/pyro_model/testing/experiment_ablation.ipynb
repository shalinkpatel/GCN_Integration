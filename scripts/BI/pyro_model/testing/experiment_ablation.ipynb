{
 "cells": [
  {
   "cell_type": "markdown",
   "metadata": {},
   "source": [
    "# Ablation study\n",
    "\n",
    "This notebook can be used to replicate the ablation study presented in the replication study. Despite the ablation study in the replication paper itself only being performed using the tree-cycles dataset and the PGExpainer, the code in this notebook can be used for the other datasets and GNNExplainer as well. \n",
    "\n",
    "The ablation study is first loads the configuration for a single model and a single datasets. By manipulating this configuration file iteratively all possible permutations are checked. \n",
    "\n",
    "**Be aware that running this notebook can take very long to run.** If a quicker version of the script is needed, we recommend replacing the first part of the 3rd code cell with the second part. This should still show the interesting parts of the evaluation. "
   ]
  },
  {
   "cell_type": "code",
   "execution_count": 1,
   "metadata": {},
   "outputs": [],
   "source": [
    "from ExplanationEvaluation.configs.selector import Selector\n",
    "from ExplanationEvaluation.tasks.replication import replication"
   ]
  },
  {
   "cell_type": "code",
   "execution_count": 2,
   "metadata": {},
   "outputs": [],
   "source": [
    "_dataset = 'treecycles' # One of: bashapes, bacommunity, treecycles, treegrids, ba2motifs, mutag\n",
    "_explainer = 'biexplainer' # One of: pgexplainer, gnnexplainer\n",
    "\n",
    "\n",
    "# PGExplainer\n",
    "config_path = f\"./ExplanationEvaluation/configs/replication/explainers/{_explainer}/{_dataset}.json\"\n",
    "\n",
    "config = Selector(config_path).args.explainer"
   ]
  },
  {
   "cell_type": "code",
   "execution_count": 3,
   "metadata": {},
   "outputs": [],
   "source": [
    "# Permutations\n",
    "#coef_size = [10, 1.0, 0.1, 0.01, 0.001, 0.0001, 0.0001]\n",
    "#coef_entr = [10, 1.0, 0.1, 0.01, 0.001, 0.0001, 0.0001]\n",
    "\n",
    "### QUICKER VERSION\n",
    "# coef_size = [1.0, 0.01, 0.0001]\n",
    "# coef_entr = [1.0, 0.01, 0.0001]\n",
    "# config.seeds = [0]\n",
    "\n",
    "### BI Version\n",
    "coef_size = [1.0]\n",
    "coef_entr = [1.0]\n",
    "config.seeds = [0]"
   ]
  },
  {
   "cell_type": "code",
   "execution_count": 4,
   "metadata": {},
   "outputs": [
    {
     "name": "stderr",
     "output_type": "stream",
     "text": [
      "  0%|          | 0/60 [00:00<?, ?it/s]"
     ]
    },
    {
     "name": "stdout",
     "output_type": "stream",
     "text": [
      "1.0 1.0\n",
      "Loading syn3 dataset\n",
      "This model obtained: Train Acc: 0.9425, Val Acc: 0.9770, Test Acc: 0.9432.\n",
      "Run 0 with seed 0\n"
     ]
    },
    {
     "name": "stderr",
     "output_type": "stream",
     "text": [
      "100%|██████████| 60/60 [1:20:36<00:00, 80.60s/it]"
     ]
    },
    {
     "name": "stdout",
     "output_type": "stream",
     "text": [
      "score: 0.4754589978757123\n",
      "time_elased: 80601.66765848796\n"
     ]
    },
    {
     "name": "stderr",
     "output_type": "stream",
     "text": [
      "\n"
     ]
    }
   ],
   "source": [
    "results = []\n",
    "    \n",
    "for size in coef_size:\n",
    "    for entropy in coef_entr:\n",
    "        print(size, entropy)\n",
    "        interim_resuts = {}\n",
    "\n",
    "        config.reg_size = size\n",
    "        config.reg_ent = entropy\n",
    "        config.temps = 1.0\n",
    "        config.sample_bias = 0.0\n",
    "\n",
    "        (auc, std), _ = replication(config, run_qual=False, results_store=False)\n",
    "\n",
    "        interim_resuts[\"AUC\"] = auc\n",
    "        interim_resuts[\"std\"] = std\n",
    "        \n",
    "        res = {\n",
    "            'size' : size,\n",
    "            'entropy' : entropy,\n",
    "            'auc': auc,\n",
    "            'std': std\n",
    "        }\n",
    "        results.append(res)"
   ]
  },
  {
   "cell_type": "code",
   "execution_count": 5,
   "metadata": {
    "scrolled": true
   },
   "outputs": [
    {
     "name": "stdout",
     "output_type": "stream",
     "text": [
      "{'size': 1.0, 'entropy': 1.0, 'auc': 0.4754589978757123, 'std': 0.0}\n"
     ]
    }
   ],
   "source": [
    "for r in results:\n",
    "    print(r)"
   ]
  }
 ],
 "metadata": {
  "kernelspec": {
   "display_name": "Python 3",
   "language": "python",
   "name": "python3"
  },
  "language_info": {
   "codemirror_mode": {
    "name": "ipython",
    "version": 3
   },
   "file_extension": ".py",
   "mimetype": "text/x-python",
   "name": "python",
   "nbconvert_exporter": "python",
   "pygments_lexer": "ipython3",
   "version": "3.7.4"
  }
 },
 "nbformat": 4,
 "nbformat_minor": 4
}
