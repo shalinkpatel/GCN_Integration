{
 "cells": [
  {
   "cell_type": "code",
   "execution_count": null,
   "metadata": {},
   "outputs": [
    {
     "ename": "",
     "evalue": "",
     "output_type": "error",
     "traceback": [
      "\u001b[1;31mUnable to start Kernel 'ml (Python 3.7.4)' due to connection timeout. \n",
      "View Jupyter <a href='command:jupyter.viewOutput'>log</a> for further details."
     ]
    }
   ],
   "source": [
    "from plotnine import *\n",
    "import pandas as pd\n",
    "from tinydb import TinyDB, Query\n",
    "\n",
    "db = TinyDB(\"../results/dev.json\")\n",
    "res = db.search()\n",
    "res"
   ]
  },
  {
   "cell_type": "code",
   "execution_count": null,
   "metadata": {},
   "outputs": [],
   "source": []
  }
 ],
 "metadata": {
  "interpreter": {
   "hash": "b9bd168b135088a7c815133e740759afbc1a6e9420996caded11629c759ddb83"
  },
  "kernelspec": {
   "display_name": "Python 3.7.4 64-bit ('ml': virtualenv)",
   "language": "python",
   "name": "python3"
  },
  "language_info": {
   "name": "python",
   "version": "3.7.4"
  },
  "orig_nbformat": 4
 },
 "nbformat": 4,
 "nbformat_minor": 2
}
