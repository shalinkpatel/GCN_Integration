{
 "cells": [
  {
   "cell_type": "code",
   "execution_count": 1,
   "metadata": {},
   "outputs": [
    {
     "name": "stderr",
     "output_type": "stream",
     "text": [
      "[ Info: [Turing]: progress logging is disabled globally\n"
     ]
    },
    {
     "data": {
      "text/plain": [
       "<PyCall.jlwrap adj>"
      ]
     },
     "execution_count": 1,
     "metadata": {},
     "output_type": "execute_result"
    },
    {
     "name": "stderr",
     "output_type": "stream",
     "text": [
      "[ Info: [AdvancedVI]: global PROGRESS is set as false\n"
     ]
    }
   ],
   "source": [
    "import sys\n",
    "\n",
    "sys.path.append(\"../model\")\n",
    "\n",
    "from Experiment import Experiment\n",
    "from samplers.NFSampler import NFSampler\n",
    "from samplers.SpikeSlabSampler import SpikeSlabSampler\n",
    "from samplers.RandomWalkSampler import RandomWalkSampler\n",
    "from searchers.GNNExplainerSearcher import GNNExplainerSearcher\n",
    "from searchers.GreedySearcher import GreedySearcher\n",
    "\n",
    "import torch\n",
    "from torch_geometric.utils import k_hop_subgraph\n",
    "\n",
    "from julia import Main\n",
    "from julia import Turing\n",
    "from julia import Base\n",
    "from julia import StatsBase\n",
    "\n",
    "Main.include(\"rw_model.jl\")"
   ]
  },
  {
   "cell_type": "code",
   "execution_count": 2,
   "metadata": {},
   "outputs": [
    {
     "name": "stdout",
     "output_type": "stream",
     "text": [
      "Loading syn3 dataset\n"
     ]
    },
    {
     "name": "stderr",
     "output_type": "stream",
     "text": [
      "2022-02-27 17:34:29.303766: W tensorflow/stream_executor/platform/default/dso_loader.cc:64] Could not load dynamic library 'libcudart.so.11.0'; dlerror: libcudart.so.11.0: cannot open shared object file: No such file or directory; LD_LIBRARY_PATH: /gpfs/runtime/opt/julia/1.7.1/lib:/gpfs/runtime/opt/gcc/8.3/lib64:/gpfs/runtime/opt/python/3.7.4/lib:/gpfs/runtime/opt/R/3.4.3_mkl/lib64/R/lib:/gpfs/runtime/opt/intel/2017.0/lib/intel64:/gpfs/runtime/opt/intel/2017.0/mkl/lib/intel64:/gpfs/runtime/opt/java/8u111/jre/lib/amd64\n",
      "2022-02-27 17:34:29.303790: I tensorflow/stream_executor/cuda/cudart_stub.cc:29] Ignore above cudart dlerror if you do not have a GPU set up on your machine.\n"
     ]
    }
   ],
   "source": [
    "experiment = Experiment(\"syn3-full-verified\", \"..\")\n",
    "experiment.train_base_model()"
   ]
  },
  {
   "cell_type": "code",
   "execution_count": 3,
   "metadata": {},
   "outputs": [],
   "source": [
    "N = 529\n",
    "subset, edge_index_adj, mapping, edge_mask_hard = k_hop_subgraph(\n",
    "            N, 3, experiment.edge_index, relabel_nodes=True)\n",
    "\n",
    "total_mapping = {k: i for k, i in enumerate(subset.tolist())}\n",
    "x_adj = experiment.x[subset]\n",
    "\n",
    "N = edge_index_adj.size(1)\n",
    "\n",
    "with torch.no_grad():\n",
    "    y = experiment.model(x_adj, edge_index_adj).exp()[mapping[0]]"
   ]
  },
  {
   "cell_type": "code",
   "execution_count": 5,
   "metadata": {},
   "outputs": [
    {
     "name": "stderr",
     "output_type": "stream",
     "text": [
      "[ Info: Set{Graphs.SimpleGraphs.SimpleEdge}()\n"
     ]
    },
    {
     "ename": "RuntimeError",
     "evalue": "<PyCall.jlwrap (in a Julia function called from Python)\nJULIA: MethodError: no method matching !(::Nothing)\nClosest candidates are:\n  !(!Matched::Function) at /gpfs/rt/7.2/opt/julia/1.7.1/share/julia/base/operators.jl:1117\n  !(!Matched::Bool) at /gpfs/rt/7.2/opt/julia/1.7.1/share/julia/base/bool.jl:35\n  !(!Matched::Missing) at /gpfs/rt/7.2/opt/julia/1.7.1/share/julia/base/missing.jl:101\n  ...\nStacktrace:\n  [1] consume(ttask::TapedTask)\n    @ Libtask ~/.julia/packages/Libtask/zSiN2/src/tapedtask.jl:138\n  [2] advance!(trace::AdvancedPS.Trace{Turing.Essential.TracedModel{AbstractMCMC.AbstractSampler, DynamicPPL.AbstractVarInfo, DynamicPPL.Model, Tuple}})\n    @ Turing.Essential ~/.julia/packages/Turing/rl6ku/src/essential/container.jl:50\n  [3] reweight!(pc::AdvancedPS.ParticleContainer{AdvancedPS.Trace{Turing.Essential.TracedModel{AbstractMCMC.AbstractSampler, DynamicPPL.AbstractVarInfo, DynamicPPL.Model, Tuple}}})\n    @ AdvancedPS ~/.julia/packages/AdvancedPS/DVEla/src/container.jl:271\n  [4] sweep!(rng::Random._GLOBAL_RNG, pc::AdvancedPS.ParticleContainer{AdvancedPS.Trace{Turing.Essential.TracedModel{AbstractMCMC.AbstractSampler, DynamicPPL.AbstractVarInfo, DynamicPPL.Model, Tuple}}}, resampler::AdvancedPS.ResampleWithESSThreshold{typeof(AdvancedPS.resample_systematic), Float64}, ref::Nothing)\n    @ AdvancedPS ~/.julia/packages/AdvancedPS/DVEla/src/container.jl:334\n  [5] sweep!\n    @ ~/.julia/packages/AdvancedPS/DVEla/src/container.jl:324 [inlined]\n  [6] initialstep(rng::Random._GLOBAL_RNG, model::DynamicPPL.Model{typeof(rw_model), (:edge_list, :N, :p, :n₀, :X, :y, :model), (), (), Tuple{Matrix{Int64}, Int64, Float64, Int64, PyObject, Vector{Float32}, PyObject}, Tuple{}, DynamicPPL.DefaultContext}, spl::DynamicPPL.Sampler{PG{(), AdvancedPS.ResampleWithESSThreshold{typeof(AdvancedPS.resample_systematic), Float64}}}, vi::DynamicPPL.TypedVarInfo{NamedTuple{(:τᵢ, :ȳ), Tuple{DynamicPPL.Metadata{Dict{AbstractPPL.VarName{:τᵢ, Setfield.IdentityLens}, Int64}, Vector{Product{Discrete, Bernoulli{Float64}, FillArrays.Fill{Bernoulli{Float64}, 1, Tuple{Base.OneTo{Int64}}}}}, Vector{AbstractPPL.VarName{:τᵢ, Setfield.IdentityLens}}, BitVector, Vector{Set{DynamicPPL.Selector}}}, DynamicPPL.Metadata{Dict{AbstractPPL.VarName{:ȳ, Setfield.IdentityLens}, Int64}, Vector{Categorical{Float32, Vector{Float32}}}, Vector{AbstractPPL.VarName{:ȳ, Setfield.IdentityLens}}, Vector{Int64}, Vector{Set{DynamicPPL.Selector}}}}}, Float64}; kwargs::Base.Pairs{Symbol, Union{}, Tuple{}, NamedTuple{(), Tuple{}}})\n    @ Turing.Inference ~/.julia/packages/Turing/rl6ku/src/inference/AdvancedSMC.jl:261\n  [7] initialstep(rng::Random._GLOBAL_RNG, model::DynamicPPL.Model{typeof(rw_model), (:edge_list, :N, :p, :n₀, :X, :y, :model), (), (), Tuple{Matrix{Int64}, Int64, Float64, Int64, PyObject, Vector{Float32}, PyObject}, Tuple{}, DynamicPPL.DefaultContext}, spl::DynamicPPL.Sampler{PG{(), AdvancedPS.ResampleWithESSThreshold{typeof(AdvancedPS.resample_systematic), Float64}}}, vi::DynamicPPL.TypedVarInfo{NamedTuple{(:τᵢ, :ȳ), Tuple{DynamicPPL.Metadata{Dict{AbstractPPL.VarName{:τᵢ, Setfield.IdentityLens}, Int64}, Vector{Product{Discrete, Bernoulli{Float64}, FillArrays.Fill{Bernoulli{Float64}, 1, Tuple{Base.OneTo{Int64}}}}}, Vector{AbstractPPL.VarName{:τᵢ, Setfield.IdentityLens}}, BitVector, Vector{Set{DynamicPPL.Selector}}}, DynamicPPL.Metadata{Dict{AbstractPPL.VarName{:ȳ, Setfield.IdentityLens}, Int64}, Vector{Categorical{Float32, Vector{Float32}}}, Vector{AbstractPPL.VarName{:ȳ, Setfield.IdentityLens}}, Vector{Int64}, Vector{Set{DynamicPPL.Selector}}}}}, Float64})\n    @ Turing.Inference ~/.julia/packages/Turing/rl6ku/src/inference/AdvancedSMC.jl:250\n  [8] step(rng::Random._GLOBAL_RNG, model::DynamicPPL.Model{typeof(rw_model), (:edge_list, :N, :p, :n₀, :X, :y, :model), (), (), Tuple{Matrix{Int64}, Int64, Float64, Int64, PyObject, Vector{Float32}, PyObject}, Tuple{}, DynamicPPL.DefaultContext}, spl::DynamicPPL.Sampler{PG{(), AdvancedPS.ResampleWithESSThreshold{typeof(AdvancedPS.resample_systematic), Float64}}}; resume_from::Nothing, kwargs::Base.Pairs{Symbol, Union{}, Tuple{}, NamedTuple{(), Tuple{}}})\n    @ DynamicPPL ~/.julia/packages/DynamicPPL/qCW6L/src/sampler.jl:99\n  [9] step\n    @ ~/.julia/packages/DynamicPPL/qCW6L/src/sampler.jl:74 [inlined]\n [10] macro expansion\n    @ ~/.julia/packages/AbstractMCMC/6aLyN/src/sample.jl:124 [inlined]\n [11] macro expansion\n    @ ~/.julia/packages/AbstractMCMC/6aLyN/src/logging.jl:15 [inlined]\n [12] mcmcsample(rng::Random._GLOBAL_RNG, model::DynamicPPL.Model{typeof(rw_model), (:edge_list, :N, :p, :n₀, :X, :y, :model), (), (), Tuple{Matrix{Int64}, Int64, Float64, Int64, PyObject, Vector{Float32}, PyObject}, Tuple{}, DynamicPPL.DefaultContext}, sampler::DynamicPPL.Sampler{PG{(), AdvancedPS.ResampleWithESSThreshold{typeof(AdvancedPS.resample_systematic), Float64}}}, N::Int64; progress::Bool, progressname::String, callback::Nothing, discard_initial::Int64, thinning::Int64, chain_type::Type, kwargs::Base.Pairs{Symbol, Union{}, Tuple{}, NamedTuple{(), Tuple{}}})\n    @ AbstractMCMC ~/.julia/packages/AbstractMCMC/6aLyN/src/sample.jl:115\n [13] sample(rng::Random._GLOBAL_RNG, model::DynamicPPL.Model{typeof(rw_model), (:edge_list, :N, :p, :n₀, :X, :y, :model), (), (), Tuple{Matrix{Int64}, Int64, Float64, Int64, PyObject, Vector{Float32}, PyObject}, Tuple{}, DynamicPPL.DefaultContext}, sampler::DynamicPPL.Sampler{PG{(), AdvancedPS.ResampleWithESSThreshold{typeof(AdvancedPS.resample_systematic), Float64}}}, N::Int64; chain_type::Type, resume_from::Nothing, progress::Bool, kwargs::Base.Pairs{Symbol, Union{}, Tuple{}, NamedTuple{(), Tuple{}}})\n    @ Turing.Inference ~/.julia/packages/Turing/rl6ku/src/inference/Inference.jl:159\n [14] sample\n    @ ~/.julia/packages/Turing/rl6ku/src/inference/Inference.jl:158 [inlined]\n [15] #sample#2\n    @ ~/.julia/packages/Turing/rl6ku/src/inference/Inference.jl:145 [inlined]\n [16] sample\n    @ ~/.julia/packages/Turing/rl6ku/src/inference/Inference.jl:145 [inlined]\n [17] #sample#1\n    @ ~/.julia/packages/Turing/rl6ku/src/inference/Inference.jl:135 [inlined]\n [18] sample(model::DynamicPPL.Model{typeof(rw_model), (:edge_list, :N, :p, :n₀, :X, :y, :model), (), (), Tuple{Matrix{Int64}, Int64, Float64, Int64, PyObject, Vector{Float32}, PyObject}, Tuple{}, DynamicPPL.DefaultContext}, alg::PG{(), AdvancedPS.ResampleWithESSThreshold{typeof(AdvancedPS.resample_systematic), Float64}}, N::Int64)\n    @ Turing.Inference ~/.julia/packages/Turing/rl6ku/src/inference/Inference.jl:135\n [19] invokelatest(::Any, ::Any, ::Vararg{Any}; kwargs::Base.Pairs{Symbol, Union{}, Tuple{}, NamedTuple{(), Tuple{}}})\n    @ Base ./essentials.jl:716\n [20] invokelatest(::Any, ::Any, ::Vararg{Any})\n    @ Base ./essentials.jl:714\n [21] _pyjlwrap_call(f::Function, args_::Ptr{PyCall.PyObject_struct}, kw_::Ptr{PyCall.PyObject_struct})\n    @ PyCall ~/.julia/packages/PyCall/L0fLP/src/callback.jl:28\n [22] pyjlwrap_call(self_::Ptr{PyCall.PyObject_struct}, args_::Ptr{PyCall.PyObject_struct}, kw_::Ptr{PyCall.PyObject_struct})\n    @ PyCall ~/.julia/packages/PyCall/L0fLP/src/callback.jl:44>",
     "output_type": "error",
     "traceback": [
      "\u001b[0;31m---------------------------------------------------------------------------\u001b[0m",
      "\u001b[0;31mRuntimeError\u001b[0m                              Traceback (most recent call last)",
      "\u001b[0;32m/tmp/ipykernel_241056/3184055622.py\u001b[0m in \u001b[0;36m<module>\u001b[0;34m\u001b[0m\n\u001b[1;32m      1\u001b[0m \u001b[0mmodel\u001b[0m \u001b[0;34m=\u001b[0m \u001b[0mMain\u001b[0m\u001b[0;34m.\u001b[0m\u001b[0mrw_model\u001b[0m\u001b[0;34m(\u001b[0m\u001b[0medge_index_adj\u001b[0m\u001b[0;34m.\u001b[0m\u001b[0mnumpy\u001b[0m\u001b[0;34m(\u001b[0m\u001b[0;34m)\u001b[0m\u001b[0;34m,\u001b[0m \u001b[0medge_index_adj\u001b[0m\u001b[0;34m.\u001b[0m\u001b[0mmax\u001b[0m\u001b[0;34m(\u001b[0m\u001b[0;34m)\u001b[0m\u001b[0;34m.\u001b[0m\u001b[0mitem\u001b[0m\u001b[0;34m(\u001b[0m\u001b[0;34m)\u001b[0m\u001b[0;34m,\u001b[0m \u001b[0;36m0.1\u001b[0m\u001b[0;34m,\u001b[0m \u001b[0mmapping\u001b[0m\u001b[0;34m.\u001b[0m\u001b[0mitem\u001b[0m\u001b[0;34m(\u001b[0m\u001b[0;34m)\u001b[0m\u001b[0;34m,\u001b[0m \u001b[0mx_adj\u001b[0m\u001b[0;34m,\u001b[0m \u001b[0my\u001b[0m\u001b[0;34m.\u001b[0m\u001b[0mnumpy\u001b[0m\u001b[0;34m(\u001b[0m\u001b[0;34m)\u001b[0m\u001b[0;34m,\u001b[0m \u001b[0mexperiment\u001b[0m\u001b[0;34m.\u001b[0m\u001b[0mmodel\u001b[0m\u001b[0;34m)\u001b[0m\u001b[0;34m\u001b[0m\u001b[0;34m\u001b[0m\u001b[0m\n\u001b[0;32m----> 2\u001b[0;31m \u001b[0mchains\u001b[0m \u001b[0;34m=\u001b[0m \u001b[0mTuring\u001b[0m\u001b[0;34m.\u001b[0m\u001b[0msample\u001b[0m\u001b[0;34m(\u001b[0m\u001b[0mmodel\u001b[0m\u001b[0;34m,\u001b[0m \u001b[0mTuring\u001b[0m\u001b[0;34m.\u001b[0m\u001b[0mPG\u001b[0m\u001b[0;34m(\u001b[0m\u001b[0;36m100\u001b[0m\u001b[0;34m)\u001b[0m\u001b[0;34m,\u001b[0m \u001b[0;36m1000\u001b[0m\u001b[0;34m)\u001b[0m\u001b[0;34m\u001b[0m\u001b[0;34m\u001b[0m\u001b[0m\n\u001b[0m",
      "\u001b[0;31mRuntimeError\u001b[0m: <PyCall.jlwrap (in a Julia function called from Python)\nJULIA: MethodError: no method matching !(::Nothing)\nClosest candidates are:\n  !(!Matched::Function) at /gpfs/rt/7.2/opt/julia/1.7.1/share/julia/base/operators.jl:1117\n  !(!Matched::Bool) at /gpfs/rt/7.2/opt/julia/1.7.1/share/julia/base/bool.jl:35\n  !(!Matched::Missing) at /gpfs/rt/7.2/opt/julia/1.7.1/share/julia/base/missing.jl:101\n  ...\nStacktrace:\n  [1] consume(ttask::TapedTask)\n    @ Libtask ~/.julia/packages/Libtask/zSiN2/src/tapedtask.jl:138\n  [2] advance!(trace::AdvancedPS.Trace{Turing.Essential.TracedModel{AbstractMCMC.AbstractSampler, DynamicPPL.AbstractVarInfo, DynamicPPL.Model, Tuple}})\n    @ Turing.Essential ~/.julia/packages/Turing/rl6ku/src/essential/container.jl:50\n  [3] reweight!(pc::AdvancedPS.ParticleContainer{AdvancedPS.Trace{Turing.Essential.TracedModel{AbstractMCMC.AbstractSampler, DynamicPPL.AbstractVarInfo, DynamicPPL.Model, Tuple}}})\n    @ AdvancedPS ~/.julia/packages/AdvancedPS/DVEla/src/container.jl:271\n  [4] sweep!(rng::Random._GLOBAL_RNG, pc::AdvancedPS.ParticleContainer{AdvancedPS.Trace{Turing.Essential.TracedModel{AbstractMCMC.AbstractSampler, DynamicPPL.AbstractVarInfo, DynamicPPL.Model, Tuple}}}, resampler::AdvancedPS.ResampleWithESSThreshold{typeof(AdvancedPS.resample_systematic), Float64}, ref::Nothing)\n    @ AdvancedPS ~/.julia/packages/AdvancedPS/DVEla/src/container.jl:334\n  [5] sweep!\n    @ ~/.julia/packages/AdvancedPS/DVEla/src/container.jl:324 [inlined]\n  [6] initialstep(rng::Random._GLOBAL_RNG, model::DynamicPPL.Model{typeof(rw_model), (:edge_list, :N, :p, :n₀, :X, :y, :model), (), (), Tuple{Matrix{Int64}, Int64, Float64, Int64, PyObject, Vector{Float32}, PyObject}, Tuple{}, DynamicPPL.DefaultContext}, spl::DynamicPPL.Sampler{PG{(), AdvancedPS.ResampleWithESSThreshold{typeof(AdvancedPS.resample_systematic), Float64}}}, vi::DynamicPPL.TypedVarInfo{NamedTuple{(:τᵢ, :ȳ), Tuple{DynamicPPL.Metadata{Dict{AbstractPPL.VarName{:τᵢ, Setfield.IdentityLens}, Int64}, Vector{Product{Discrete, Bernoulli{Float64}, FillArrays.Fill{Bernoulli{Float64}, 1, Tuple{Base.OneTo{Int64}}}}}, Vector{AbstractPPL.VarName{:τᵢ, Setfield.IdentityLens}}, BitVector, Vector{Set{DynamicPPL.Selector}}}, DynamicPPL.Metadata{Dict{AbstractPPL.VarName{:ȳ, Setfield.IdentityLens}, Int64}, Vector{Categorical{Float32, Vector{Float32}}}, Vector{AbstractPPL.VarName{:ȳ, Setfield.IdentityLens}}, Vector{Int64}, Vector{Set{DynamicPPL.Selector}}}}}, Float64}; kwargs::Base.Pairs{Symbol, Union{}, Tuple{}, NamedTuple{(), Tuple{}}})\n    @ Turing.Inference ~/.julia/packages/Turing/rl6ku/src/inference/AdvancedSMC.jl:261\n  [7] initialstep(rng::Random._GLOBAL_RNG, model::DynamicPPL.Model{typeof(rw_model), (:edge_list, :N, :p, :n₀, :X, :y, :model), (), (), Tuple{Matrix{Int64}, Int64, Float64, Int64, PyObject, Vector{Float32}, PyObject}, Tuple{}, DynamicPPL.DefaultContext}, spl::DynamicPPL.Sampler{PG{(), AdvancedPS.ResampleWithESSThreshold{typeof(AdvancedPS.resample_systematic), Float64}}}, vi::DynamicPPL.TypedVarInfo{NamedTuple{(:τᵢ, :ȳ), Tuple{DynamicPPL.Metadata{Dict{AbstractPPL.VarName{:τᵢ, Setfield.IdentityLens}, Int64}, Vector{Product{Discrete, Bernoulli{Float64}, FillArrays.Fill{Bernoulli{Float64}, 1, Tuple{Base.OneTo{Int64}}}}}, Vector{AbstractPPL.VarName{:τᵢ, Setfield.IdentityLens}}, BitVector, Vector{Set{DynamicPPL.Selector}}}, DynamicPPL.Metadata{Dict{AbstractPPL.VarName{:ȳ, Setfield.IdentityLens}, Int64}, Vector{Categorical{Float32, Vector{Float32}}}, Vector{AbstractPPL.VarName{:ȳ, Setfield.IdentityLens}}, Vector{Int64}, Vector{Set{DynamicPPL.Selector}}}}}, Float64})\n    @ Turing.Inference ~/.julia/packages/Turing/rl6ku/src/inference/AdvancedSMC.jl:250\n  [8] step(rng::Random._GLOBAL_RNG, model::DynamicPPL.Model{typeof(rw_model), (:edge_list, :N, :p, :n₀, :X, :y, :model), (), (), Tuple{Matrix{Int64}, Int64, Float64, Int64, PyObject, Vector{Float32}, PyObject}, Tuple{}, DynamicPPL.DefaultContext}, spl::DynamicPPL.Sampler{PG{(), AdvancedPS.ResampleWithESSThreshold{typeof(AdvancedPS.resample_systematic), Float64}}}; resume_from::Nothing, kwargs::Base.Pairs{Symbol, Union{}, Tuple{}, NamedTuple{(), Tuple{}}})\n    @ DynamicPPL ~/.julia/packages/DynamicPPL/qCW6L/src/sampler.jl:99\n  [9] step\n    @ ~/.julia/packages/DynamicPPL/qCW6L/src/sampler.jl:74 [inlined]\n [10] macro expansion\n    @ ~/.julia/packages/AbstractMCMC/6aLyN/src/sample.jl:124 [inlined]\n [11] macro expansion\n    @ ~/.julia/packages/AbstractMCMC/6aLyN/src/logging.jl:15 [inlined]\n [12] mcmcsample(rng::Random._GLOBAL_RNG, model::DynamicPPL.Model{typeof(rw_model), (:edge_list, :N, :p, :n₀, :X, :y, :model), (), (), Tuple{Matrix{Int64}, Int64, Float64, Int64, PyObject, Vector{Float32}, PyObject}, Tuple{}, DynamicPPL.DefaultContext}, sampler::DynamicPPL.Sampler{PG{(), AdvancedPS.ResampleWithESSThreshold{typeof(AdvancedPS.resample_systematic), Float64}}}, N::Int64; progress::Bool, progressname::String, callback::Nothing, discard_initial::Int64, thinning::Int64, chain_type::Type, kwargs::Base.Pairs{Symbol, Union{}, Tuple{}, NamedTuple{(), Tuple{}}})\n    @ AbstractMCMC ~/.julia/packages/AbstractMCMC/6aLyN/src/sample.jl:115\n [13] sample(rng::Random._GLOBAL_RNG, model::DynamicPPL.Model{typeof(rw_model), (:edge_list, :N, :p, :n₀, :X, :y, :model), (), (), Tuple{Matrix{Int64}, Int64, Float64, Int64, PyObject, Vector{Float32}, PyObject}, Tuple{}, DynamicPPL.DefaultContext}, sampler::DynamicPPL.Sampler{PG{(), AdvancedPS.ResampleWithESSThreshold{typeof(AdvancedPS.resample_systematic), Float64}}}, N::Int64; chain_type::Type, resume_from::Nothing, progress::Bool, kwargs::Base.Pairs{Symbol, Union{}, Tuple{}, NamedTuple{(), Tuple{}}})\n    @ Turing.Inference ~/.julia/packages/Turing/rl6ku/src/inference/Inference.jl:159\n [14] sample\n    @ ~/.julia/packages/Turing/rl6ku/src/inference/Inference.jl:158 [inlined]\n [15] #sample#2\n    @ ~/.julia/packages/Turing/rl6ku/src/inference/Inference.jl:145 [inlined]\n [16] sample\n    @ ~/.julia/packages/Turing/rl6ku/src/inference/Inference.jl:145 [inlined]\n [17] #sample#1\n    @ ~/.julia/packages/Turing/rl6ku/src/inference/Inference.jl:135 [inlined]\n [18] sample(model::DynamicPPL.Model{typeof(rw_model), (:edge_list, :N, :p, :n₀, :X, :y, :model), (), (), Tuple{Matrix{Int64}, Int64, Float64, Int64, PyObject, Vector{Float32}, PyObject}, Tuple{}, DynamicPPL.DefaultContext}, alg::PG{(), AdvancedPS.ResampleWithESSThreshold{typeof(AdvancedPS.resample_systematic), Float64}}, N::Int64)\n    @ Turing.Inference ~/.julia/packages/Turing/rl6ku/src/inference/Inference.jl:135\n [19] invokelatest(::Any, ::Any, ::Vararg{Any}; kwargs::Base.Pairs{Symbol, Union{}, Tuple{}, NamedTuple{(), Tuple{}}})\n    @ Base ./essentials.jl:716\n [20] invokelatest(::Any, ::Any, ::Vararg{Any})\n    @ Base ./essentials.jl:714\n [21] _pyjlwrap_call(f::Function, args_::Ptr{PyCall.PyObject_struct}, kw_::Ptr{PyCall.PyObject_struct})\n    @ PyCall ~/.julia/packages/PyCall/L0fLP/src/callback.jl:28\n [22] pyjlwrap_call(self_::Ptr{PyCall.PyObject_struct}, args_::Ptr{PyCall.PyObject_struct}, kw_::Ptr{PyCall.PyObject_struct})\n    @ PyCall ~/.julia/packages/PyCall/L0fLP/src/callback.jl:44>"
     ]
    }
   ],
   "source": [
    "model = Main.rw_model(edge_index_adj.numpy(), edge_index_adj.max().item(), 0.1, mapping.item(), x_adj, y.numpy(), experiment.model)\n",
    "chains = Turing.sample(model, Turing.PG(100), 1000)"
   ]
  },
  {
   "cell_type": "code",
   "execution_count": null,
   "metadata": {},
   "outputs": [
    {
     "data": {
      "text/plain": [
       "array([0.103, 0.094, 0.103, 0.095, 0.102, 0.09 , 0.114, 0.104, 0.104,\n",
       "       0.112, 0.118, 0.095, 0.092, 0.115, 0.113, 0.107, 0.102, 0.109,\n",
       "       0.099, 0.096, 0.103, 0.105, 0.102, 0.127, 0.094, 0.097, 0.092,\n",
       "       0.105, 0.088, 0.09 , 0.098, 0.104, 0.099, 0.098, 1.291])"
      ]
     },
     "execution_count": 5,
     "metadata": {},
     "output_type": "execute_result"
    }
   ],
   "source": [
    "from julia import StatsBase\n",
    "import numpy as np\n",
    "\n",
    "arr = Base.Array(chains)\n",
    "arr.mean(axis=0)"
   ]
  },
  {
   "cell_type": "code",
   "execution_count": null,
   "metadata": {},
   "outputs": [
    {
     "data": {
      "text/plain": [
       "array([[0., 0., 0., ..., 0., 0., 1.],\n",
       "       [0., 0., 1., ..., 0., 0., 1.],\n",
       "       [0., 0., 0., ..., 0., 0., 2.],\n",
       "       ...,\n",
       "       [0., 0., 0., ..., 0., 0., 1.],\n",
       "       [0., 0., 0., ..., 0., 0., 1.],\n",
       "       [0., 1., 0., ..., 0., 0., 1.]])"
      ]
     },
     "execution_count": 6,
     "metadata": {},
     "output_type": "execute_result"
    }
   ],
   "source": [
    "arr"
   ]
  }
 ],
 "metadata": {
  "interpreter": {
   "hash": "b9bd168b135088a7c815133e740759afbc1a6e9420996caded11629c759ddb83"
  },
  "kernelspec": {
   "display_name": "Python 3.7.4 64-bit ('ml': virtualenv)",
   "language": "python",
   "name": "python3"
  },
  "language_info": {
   "codemirror_mode": {
    "name": "ipython",
    "version": 3
   },
   "file_extension": ".py",
   "mimetype": "text/x-python",
   "name": "python",
   "nbconvert_exporter": "python",
   "pygments_lexer": "ipython3",
   "version": "3.7.4"
  },
  "orig_nbformat": 4
 },
 "nbformat": 4,
 "nbformat_minor": 2
}
