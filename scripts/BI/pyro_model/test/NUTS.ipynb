{
 "cells": [
  {
   "cell_type": "code",
   "execution_count": 3,
   "id": "cb6ac34a-f98f-4839-b95c-d2c5aafdafe3",
   "metadata": {},
   "outputs": [
    {
     "name": "stdout",
     "output_type": "stream",
     "text": [
      "Loading syn3 dataset\n"
     ]
    },
    {
     "name": "stderr",
     "output_type": "stream",
     "text": [
      "2022-03-09 10:02:43.984429: W tensorflow/stream_executor/platform/default/dso_loader.cc:64] Could not load dynamic library 'libcudart.so.11.0'; dlerror: libcudart.so.11.0: cannot open shared object file: No such file or directory; LD_LIBRARY_PATH: /gpfs/runtime/opt/julia/1.7.1/lib:/gpfs/runtime/opt/gcc/8.3/lib64:/gpfs/runtime/opt/python/3.7.4/lib:/gpfs/runtime/opt/R/3.4.3_mkl/lib64/R/lib:/gpfs/runtime/opt/intel/2017.0/lib/intel64:/gpfs/runtime/opt/intel/2017.0/mkl/lib/intel64:/gpfs/runtime/opt/java/8u111/jre/lib/amd64\n",
      "2022-03-09 10:02:43.984461: I tensorflow/stream_executor/cuda/cudart_stub.cc:29] Ignore above cudart dlerror if you do not have a GPU set up on your machine.\n"
     ]
    }
   ],
   "source": [
    "import sys\n",
    "\n",
    "sys.path.append(\"../model\")\n",
    "\n",
    "from Experiment import Experiment\n",
    "from samplers.NFSampler import NFSampler\n",
    "from samplers.SpikeSlabSampler import SpikeSlabSampler\n",
    "from samplers.RandomWalkSampler import RandomWalkSampler\n",
    "from searchers.GNNExplainerSearcher import GNNExplainerSearcher\n",
    "from searchers.GreedySearcher import GreedySearcher\n",
    "\n",
    "from torch_geometric.nn.models.explainer import clear_masks, set_masks\n",
    "\n",
    "experiment = Experiment(\"syn3-full-verified\", \"..\")\n",
    "experiment.train_base_model()"
   ]
  },
  {
   "cell_type": "code",
   "execution_count": 4,
   "id": "244e7b5e-6e64-49bb-86a3-6ab954fa5215",
   "metadata": {},
   "outputs": [],
   "source": [
    "import torch\n",
    "import pyro\n",
    "from pyro import distributions as dist\n",
    "from torch_geometric.utils import k_hop_subgraph\n",
    "from pyro.infer import infer_discrete, config_enumerate\n",
    "\n",
    "\n",
    "N = 565\n",
    "subset, edge_index_adj, mapping, edge_mask_hard = k_hop_subgraph(\n",
    "            N, 3, experiment.edge_index, relabel_nodes=True)\n",
    "\n",
    "total_mapping = {k: i for k, i in enumerate(subset.tolist())}\n",
    "x_adj = experiment.x[subset]\n",
    "\n",
    "N = edge_index_adj.size(1)\n",
    "\n",
    "with torch.no_grad():\n",
    "    y = experiment.model(x_adj, edge_index_adj).exp()[mapping[0]]\n",
    "\n",
    "def sample_model(data):\n",
    "    f1 = pyro.sample(\"f1\", dist.Beta(2, 10).expand([N]).to_event(1))\n",
    "    set_masks(experiment.model, torch.nn.Parameter(f1), edge_index_adj, False)\n",
    "    mean = experiment.model(data, edge_index_adj)[mapping].reshape(-1).exp()\n",
    "    clear_masks(experiment.model)\n",
    "    y_sample = pyro.sample(\"y_sample\", dist.Categorical(probs=y/y.sum()))\n",
    "    return pyro.sample(\"y_hat\", dist.Categorical(probs=mean/mean.sum()), obs=y_sample)"
   ]
  },
  {
   "cell_type": "code",
   "execution_count": 5,
   "id": "847c9710",
   "metadata": {},
   "outputs": [
    {
     "name": "stderr",
     "output_type": "stream",
     "text": [
      "Sample: 100%|██████████| 1250/1250 [00:43, 29.02it/s, step size=4.86e-01, acc. prob=0.859]\n"
     ]
    }
   ],
   "source": [
    "from pyro.infer.mcmc import NUTS\n",
    "from pyro.infer.mcmc import MCMC\n",
    "\n",
    "nuts_kernel = NUTS(sample_model, adapt_step_size=True)\n",
    "mcmc = MCMC(nuts_kernel, num_samples=1000, warmup_steps=250)\n",
    "mcmc.run(x_adj)"
   ]
  },
  {
   "cell_type": "code",
   "execution_count": 6,
   "id": "c9168a16",
   "metadata": {},
   "outputs": [
    {
     "data": {
      "text/plain": [
       "tensor([0.1682, 0.1638, 0.1650, 0.1672, 0.1650, 0.1633, 0.1714, 0.1713, 0.1644,\n",
       "        0.1701, 0.1646, 0.1579, 0.1712, 0.1665, 0.1680, 0.1698, 0.1711, 0.1661,\n",
       "        0.1654, 0.1618, 0.1642, 0.1686, 0.1683, 0.1699, 0.1701, 0.1644, 0.1730,\n",
       "        0.1656, 0.1640, 0.1684, 0.1651, 0.1651])"
      ]
     },
     "execution_count": 6,
     "metadata": {},
     "output_type": "execute_result"
    }
   ],
   "source": [
    "samples = mcmc.get_samples()\n",
    "samples['f1'].mean(0)"
   ]
  }
 ],
 "metadata": {
  "kernelspec": {
   "display_name": "Python 3",
   "language": "python",
   "name": "python3"
  },
  "language_info": {
   "codemirror_mode": {
    "name": "ipython",
    "version": 3
   },
   "file_extension": ".py",
   "mimetype": "text/x-python",
   "name": "python",
   "nbconvert_exporter": "python",
   "pygments_lexer": "ipython3",
   "version": "3.7.4"
  }
 },
 "nbformat": 4,
 "nbformat_minor": 5
}
