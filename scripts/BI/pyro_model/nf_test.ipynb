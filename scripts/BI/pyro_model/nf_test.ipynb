{
 "cells": [
  {
   "cell_type": "code",
   "execution_count": 1,
   "metadata": {},
   "outputs": [],
   "source": [
    "import torch\n",
    "import pyro\n",
    "import pyro.distributions as dist\n",
    "import pyro.distributions.transforms as T\n",
    "import matplotlib.pyplot as plt\n",
    "import seaborn as sns\n",
    "import os\n",
    "import random\n",
    "\n",
    "data1 = [1 if random.random() < 0.3 else 0 for i in range(10000)]\n",
    "data2 = [1 if random.random() < 0.6 else 0 for i in range(10000)]\n",
    "data = torch.stack([torch.tensor(data1), torch.tensor(data2)], dim=-1).float()\n",
    "device = torch.device('cuda' if torch.cuda.is_available() else 'cpu')"
   ]
  },
  {
   "cell_type": "code",
   "execution_count": 2,
   "metadata": {},
   "outputs": [],
   "source": [
    "data = data.to(device)"
   ]
  },
  {
   "cell_type": "code",
   "execution_count": 10,
   "metadata": {},
   "outputs": [],
   "source": [
    "base_dist = dist.Normal(torch.zeros(2).to(device), torch.ones(2).to(device))\n",
    "spline1 = T.spline(2).to(device)\n",
    "spline2 = T.spline(2).to(device)\n",
    "flow_dist = dist.TransformedDistribution(base_dist, [spline1, spline2])"
   ]
  },
  {
   "cell_type": "code",
   "execution_count": 11,
   "metadata": {},
   "outputs": [
    {
     "name": "stdout",
     "output_type": "stream",
     "text": [
      "step: 1, loss: 0.6591983437538147\n",
      "step: 51, loss: 0.6430516242980957\n",
      "step: 101, loss: 0.6430274248123169\n",
      "step: 151, loss: 0.6430831551551819\n",
      "step: 201, loss: 0.643086314201355\n",
      "step: 251, loss: 0.6430315375328064\n",
      "step: 301, loss: 0.6430330872535706\n",
      "step: 351, loss: 0.643073320388794\n",
      "step: 401, loss: 0.6430783271789551\n",
      "step: 451, loss: 0.6430176496505737\n",
      "step: 501, loss: 0.6430212259292603\n"
     ]
    }
   ],
   "source": [
    "optimizer = torch.optim.Adam(list(spline1.parameters()) + list(spline2.parameters()), lr=5e-2)\n",
    "for step in range(1, 502):\n",
    "    optimizer.zero_grad()\n",
    "    b = pyro.distributions.Bernoulli(flow_dist.rsample(torch.Size([10000,])).sigmoid().mean(dim=0))\n",
    "    loss = -b.log_prob(data).mean()\n",
    "    loss.backward()\n",
    "    optimizer.step()\n",
    "    flow_dist.clear_cache()\n",
    "\n",
    "    if step % 50 == 1:\n",
    "        print('step: {}, loss: {}'.format(step, loss.item()))"
   ]
  },
  {
   "cell_type": "code",
   "execution_count": 12,
   "metadata": {},
   "outputs": [],
   "source": [
    "b = pyro.distributions.Bernoulli(flow_dist.rsample(torch.Size([10000,])).sigmoid().mean(dim=0))"
   ]
  },
  {
   "cell_type": "code",
   "execution_count": 13,
   "metadata": {},
   "outputs": [
    {
     "data": {
      "text/plain": [
       "tensor([0.3033, 0.5992], device='cuda:0', grad_fn=<MeanBackward1>)"
      ]
     },
     "execution_count": 13,
     "metadata": {},
     "output_type": "execute_result"
    }
   ],
   "source": [
    "b.mean"
   ]
  },
  {
   "cell_type": "code",
   "execution_count": 14,
   "metadata": {},
   "outputs": [
    {
     "data": {
      "text/plain": [
       "tensor([0.3043, 0.6035], device='cuda:0')"
      ]
     },
     "execution_count": 14,
     "metadata": {},
     "output_type": "execute_result"
    }
   ],
   "source": [
    "data.mean(dim=0)"
   ]
  }
 ],
 "metadata": {
  "kernelspec": {
   "display_name": "Python 3",
   "language": "python",
   "name": "python3"
  },
  "language_info": {
   "codemirror_mode": {
    "name": "ipython",
    "version": 3
   },
   "file_extension": ".py",
   "mimetype": "text/x-python",
   "name": "python",
   "nbconvert_exporter": "python",
   "pygments_lexer": "ipython3",
   "version": "3.7.4"
  }
 },
 "nbformat": 4,
 "nbformat_minor": 4
}
