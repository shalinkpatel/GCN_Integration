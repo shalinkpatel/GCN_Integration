{
 "cells": [
  {
   "cell_type": "code",
   "execution_count": 1,
   "metadata": {},
   "outputs": [
    {
     "data": {
      "text/plain": [
       "plot_result (generic function with 8 methods)"
      ]
     },
     "execution_count": 1,
     "metadata": {},
     "output_type": "execute_result"
    }
   ],
   "source": [
    "using Serialization, NPZ\n",
    "\n",
    "include(\"../model.jl\")"
   ]
  },
  {
   "cell_type": "code",
   "execution_count": 2,
   "metadata": {},
   "outputs": [
    {
     "data": {
      "text/plain": [
       "PyGInferenceModel(46, \"/gpfs_home/spate116/singhlab/GCN_Integration/scripts/BI/examples/syn/\", \"syn4\", 529, 3, Int32[5 5 … 533 534; 11 12 … 532 533], Float32[1.0148329, -1.4014696], var\"#graph_mask#9\"{Float32, Int64, PyObject, PyObject}(0.05f0, Core.Box([1, 1, 1, 1, 1, 1, 1, 1, 1, 1  …  1, 1, 1, 1, 1, 1, 1, 1, 1, 1]), 529, Core.Box(PyObject tensor([[  5,   5,  11,  11,  11,  12,  24,  24,  24,  25,  25,  25,  49,  49,\n",
       "          49,  50,  50, 529, 529, 530, 531, 532, 533,  11,  12,  23,  24, 520,\n",
       "          25,  49,  50, 529,  51,  52, 530,  99, 100, 549, 101, 102, 530, 534,\n",
       "         531, 532, 533, 534],\n",
       "        [ 11,  12,  23,  24, 520,  25,  49,  50, 529,  51,  52, 530,  99, 100,\n",
       "         549, 101, 102, 530, 534, 531, 532, 533, 534,   5,   5,  11,  11,  11,\n",
       "          12,  24,  24,  24,  25,  25,  25,  49,  49,  49,  50,  50, 529, 529,\n",
       "         530, 531, 532, 533]], device='cuda:0')), PyObject Net(\n",
       "  (conv1): GCNConv(10, 50)\n",
       "  (conv2): GCNConv(50, 50)\n",
       "  (conv3): GCNConv(50, 2)\n",
       "), PyObject <function run_model at 0x7f99f279e170>), Float32[1.0 1.0 … 1.0 1.0; 1.0 1.0 … 1.0 1.0; … ; 1.0 1.0 … 1.0 1.0; 1.0 1.0 … 1.0 1.0], [0, 0, 0, 0, 0, 0, 0, 0, 0, 0  …  1, 1, 1, 1, 1, 1, 1, 1, 1, 1])"
      ]
     },
     "execution_count": 2,
     "metadata": {},
     "output_type": "execute_result"
    }
   ],
   "source": [
    "node = 529\n",
    "hops = 3\n",
    "model = PyGInferenceModel(\"/gpfs_home/spate116/singhlab/GCN_Integration/scripts/BI/examples/syn/\", \n",
    "                                \"syn4\", node, hops, 0.05f0, 0.000005f0)"
   ]
  },
  {
   "cell_type": "code",
   "execution_count": 3,
   "metadata": {},
   "outputs": [
    {
     "name": "stderr",
     "output_type": "stream",
     "text": [
      "\u001b[32mSampling: 100%|█████████████████████████████████████████| Time: 0:03:59\u001b[39m\n"
     ]
    },
    {
     "name": "stdout",
     "output_type": "stream",
     "text": [
      "259.230159 seconds (65.96 M allocations: 4.745 GiB, 0.58% gc time, 0.99% compilation time)\n"
     ]
    },
    {
     "data": {
      "text/html": [
       "<table class=\"data-frame\"><thead><tr><th></th><th>parameters</th><th>mean</th><th>std</th><th>naive_se</th><th>mcse</th><th>ess</th><th>rhat</th><th>ess_per_sec</th></tr><tr><th></th><th>Symbol</th><th>Float64</th><th>Float64</th><th>Float64</th><th>Float64</th><th>Float64</th><th>Float64</th><th>Float64</th></tr></thead><tbody><p>47 rows × 8 columns</p><tr><th>1</th><td>edge_mask[1]</td><td>0.05</td><td>0.218054</td><td>0.00689547</td><td>0.00537484</td><td>1069.97</td><td>0.998999</td><td>4.31917</td></tr><tr><th>2</th><td>edge_mask[2]</td><td>0.042</td><td>0.20069</td><td>0.00634636</td><td>0.00592546</td><td>998.521</td><td>1.00388</td><td>4.03075</td></tr><tr><th>3</th><td>edge_mask[3]</td><td>0.066</td><td>0.248406</td><td>0.0078553</td><td>0.00909212</td><td>1048.5</td><td>1.00004</td><td>4.23249</td></tr><tr><th>4</th><td>edge_mask[4]</td><td>0.06</td><td>0.237606</td><td>0.00751375</td><td>0.0068313</td><td>926.618</td><td>0.998999</td><td>3.74049</td></tr><tr><th>5</th><td>edge_mask[5]</td><td>0.049</td><td>0.215976</td><td>0.00682976</td><td>0.00525991</td><td>1021.52</td><td>0.999192</td><td>4.1236</td></tr><tr><th>6</th><td>edge_mask[6]</td><td>0.059</td><td>0.235743</td><td>0.00745484</td><td>0.0101598</td><td>926.894</td><td>0.999017</td><td>3.74161</td></tr><tr><th>7</th><td>edge_mask[7]</td><td>0.045</td><td>0.207408</td><td>0.00655881</td><td>0.00477261</td><td>1004.22</td><td>0.999581</td><td>4.05374</td></tr><tr><th>8</th><td>edge_mask[8]</td><td>0.05</td><td>0.218054</td><td>0.00689547</td><td>0.00516398</td><td>942.923</td><td>0.999757</td><td>3.80631</td></tr><tr><th>9</th><td>edge_mask[9]</td><td>0.05</td><td>0.218054</td><td>0.00689547</td><td>0.00537484</td><td>1025.79</td><td>0.999084</td><td>4.14083</td></tr><tr><th>10</th><td>edge_mask[10]</td><td>0.054</td><td>0.226131</td><td>0.00715088</td><td>0.0101325</td><td>895.34</td><td>0.999078</td><td>3.61423</td></tr><tr><th>11</th><td>edge_mask[11]</td><td>0.052</td><td>0.222138</td><td>0.00702462</td><td>0.0069602</td><td>952.491</td><td>0.999729</td><td>3.84494</td></tr><tr><th>12</th><td>edge_mask[12]</td><td>0.068</td><td>0.251872</td><td>0.00796489</td><td>0.00742369</td><td>1095.46</td><td>0.999063</td><td>4.42207</td></tr><tr><th>13</th><td>edge_mask[13]</td><td>0.051</td><td>0.220108</td><td>0.00696042</td><td>0.00525991</td><td>982.19</td><td>0.99902</td><td>3.96482</td></tr><tr><th>14</th><td>edge_mask[14]</td><td>0.057</td><td>0.231959</td><td>0.00733518</td><td>0.00395811</td><td>942.446</td><td>0.999018</td><td>3.80439</td></tr><tr><th>15</th><td>edge_mask[15]</td><td>0.064</td><td>0.244875</td><td>0.00774364</td><td>0.0087178</td><td>925.411</td><td>0.9996</td><td>3.73562</td></tr><tr><th>16</th><td>edge_mask[16]</td><td>0.035</td><td>0.183872</td><td>0.00581453</td><td>0.00477261</td><td>1012.85</td><td>1.0014</td><td>4.08859</td></tr><tr><th>17</th><td>edge_mask[17]</td><td>0.05</td><td>0.218054</td><td>0.00689547</td><td>0.00788811</td><td>944.445</td><td>0.999336</td><td>3.81246</td></tr><tr><th>18</th><td>edge_mask[18]</td><td>0.037</td><td>0.188856</td><td>0.00597216</td><td>0.003</td><td>1081.13</td><td>0.999028</td><td>4.36421</td></tr><tr><th>19</th><td>edge_mask[19]</td><td>0.054</td><td>0.226131</td><td>0.00715088</td><td>0.00669992</td><td>1035.7</td><td>1.00096</td><td>4.18083</td></tr><tr><th>20</th><td>edge_mask[20]</td><td>0.049</td><td>0.215976</td><td>0.00682976</td><td>0.00835996</td><td>936.736</td><td>1.00074</td><td>3.78134</td></tr><tr><th>21</th><td>edge_mask[21]</td><td>0.058</td><td>0.23386</td><td>0.00739532</td><td>0.00963789</td><td>1010.74</td><td>1.00259</td><td>4.08006</td></tr><tr><th>22</th><td>edge_mask[22]</td><td>0.041</td><td>0.198389</td><td>0.00627362</td><td>0.0072188</td><td>1015.32</td><td>0.999025</td><td>4.09857</td></tr><tr><th>23</th><td>edge_mask[23]</td><td>0.05</td><td>0.218054</td><td>0.00689547</td><td>0.00745356</td><td>916.934</td><td>0.999757</td><td>3.70141</td></tr><tr><th>24</th><td>edge_mask[24]</td><td>0.057</td><td>0.231959</td><td>0.00733518</td><td>0.007</td><td>893.059</td><td>0.999167</td><td>3.60503</td></tr><tr><th>25</th><td>edge_mask[25]</td><td>0.045</td><td>0.207408</td><td>0.00655881</td><td>0.00687184</td><td>1053.52</td><td>0.999581</td><td>4.25278</td></tr><tr><th>26</th><td>edge_mask[26]</td><td>0.05</td><td>0.218054</td><td>0.00689547</td><td>0.00494413</td><td>1069.67</td><td>0.999084</td><td>4.31797</td></tr><tr><th>27</th><td>edge_mask[27]</td><td>0.051</td><td>0.220108</td><td>0.00696042</td><td>0.00622718</td><td>995.868</td><td>0.999185</td><td>4.02004</td></tr><tr><th>28</th><td>edge_mask[28]</td><td>0.062</td><td>0.241276</td><td>0.00762982</td><td>0.008</td><td>963.654</td><td>1.0001</td><td>3.89</td></tr><tr><th>29</th><td>edge_mask[29]</td><td>0.045</td><td>0.207408</td><td>0.00655881</td><td>0.005</td><td>960.324</td><td>0.999023</td><td>3.87656</td></tr><tr><th>30</th><td>edge_mask[30]</td><td>0.041</td><td>0.198389</td><td>0.00627362</td><td>0.00752034</td><td>942.376</td><td>1.0033</td><td>3.80411</td></tr><tr><th>&vellip;</th><td>&vellip;</td><td>&vellip;</td><td>&vellip;</td><td>&vellip;</td><td>&vellip;</td><td>&vellip;</td><td>&vellip;</td><td>&vellip;</td></tr></tbody></table>"
      ],
      "text/latex": [
       "\\begin{tabular}{r|cccccccc}\n",
       "\t& parameters & mean & std & naive\\_se & mcse & ess & rhat & ess\\_per\\_sec\\\\\n",
       "\t\\hline\n",
       "\t& Symbol & Float64 & Float64 & Float64 & Float64 & Float64 & Float64 & Float64\\\\\n",
       "\t\\hline\n",
       "\t1 & edge\\_mask[1] & 0.05 & 0.218054 & 0.00689547 & 0.00537484 & 1069.97 & 0.998999 & 4.31917 \\\\\n",
       "\t2 & edge\\_mask[2] & 0.042 & 0.20069 & 0.00634636 & 0.00592546 & 998.521 & 1.00388 & 4.03075 \\\\\n",
       "\t3 & edge\\_mask[3] & 0.066 & 0.248406 & 0.0078553 & 0.00909212 & 1048.5 & 1.00004 & 4.23249 \\\\\n",
       "\t4 & edge\\_mask[4] & 0.06 & 0.237606 & 0.00751375 & 0.0068313 & 926.618 & 0.998999 & 3.74049 \\\\\n",
       "\t5 & edge\\_mask[5] & 0.049 & 0.215976 & 0.00682976 & 0.00525991 & 1021.52 & 0.999192 & 4.1236 \\\\\n",
       "\t6 & edge\\_mask[6] & 0.059 & 0.235743 & 0.00745484 & 0.0101598 & 926.894 & 0.999017 & 3.74161 \\\\\n",
       "\t7 & edge\\_mask[7] & 0.045 & 0.207408 & 0.00655881 & 0.00477261 & 1004.22 & 0.999581 & 4.05374 \\\\\n",
       "\t8 & edge\\_mask[8] & 0.05 & 0.218054 & 0.00689547 & 0.00516398 & 942.923 & 0.999757 & 3.80631 \\\\\n",
       "\t9 & edge\\_mask[9] & 0.05 & 0.218054 & 0.00689547 & 0.00537484 & 1025.79 & 0.999084 & 4.14083 \\\\\n",
       "\t10 & edge\\_mask[10] & 0.054 & 0.226131 & 0.00715088 & 0.0101325 & 895.34 & 0.999078 & 3.61423 \\\\\n",
       "\t11 & edge\\_mask[11] & 0.052 & 0.222138 & 0.00702462 & 0.0069602 & 952.491 & 0.999729 & 3.84494 \\\\\n",
       "\t12 & edge\\_mask[12] & 0.068 & 0.251872 & 0.00796489 & 0.00742369 & 1095.46 & 0.999063 & 4.42207 \\\\\n",
       "\t13 & edge\\_mask[13] & 0.051 & 0.220108 & 0.00696042 & 0.00525991 & 982.19 & 0.99902 & 3.96482 \\\\\n",
       "\t14 & edge\\_mask[14] & 0.057 & 0.231959 & 0.00733518 & 0.00395811 & 942.446 & 0.999018 & 3.80439 \\\\\n",
       "\t15 & edge\\_mask[15] & 0.064 & 0.244875 & 0.00774364 & 0.0087178 & 925.411 & 0.9996 & 3.73562 \\\\\n",
       "\t16 & edge\\_mask[16] & 0.035 & 0.183872 & 0.00581453 & 0.00477261 & 1012.85 & 1.0014 & 4.08859 \\\\\n",
       "\t17 & edge\\_mask[17] & 0.05 & 0.218054 & 0.00689547 & 0.00788811 & 944.445 & 0.999336 & 3.81246 \\\\\n",
       "\t18 & edge\\_mask[18] & 0.037 & 0.188856 & 0.00597216 & 0.003 & 1081.13 & 0.999028 & 4.36421 \\\\\n",
       "\t19 & edge\\_mask[19] & 0.054 & 0.226131 & 0.00715088 & 0.00669992 & 1035.7 & 1.00096 & 4.18083 \\\\\n",
       "\t20 & edge\\_mask[20] & 0.049 & 0.215976 & 0.00682976 & 0.00835996 & 936.736 & 1.00074 & 3.78134 \\\\\n",
       "\t21 & edge\\_mask[21] & 0.058 & 0.23386 & 0.00739532 & 0.00963789 & 1010.74 & 1.00259 & 4.08006 \\\\\n",
       "\t22 & edge\\_mask[22] & 0.041 & 0.198389 & 0.00627362 & 0.0072188 & 1015.32 & 0.999025 & 4.09857 \\\\\n",
       "\t23 & edge\\_mask[23] & 0.05 & 0.218054 & 0.00689547 & 0.00745356 & 916.934 & 0.999757 & 3.70141 \\\\\n",
       "\t24 & edge\\_mask[24] & 0.057 & 0.231959 & 0.00733518 & 0.007 & 893.059 & 0.999167 & 3.60503 \\\\\n",
       "\t25 & edge\\_mask[25] & 0.045 & 0.207408 & 0.00655881 & 0.00687184 & 1053.52 & 0.999581 & 4.25278 \\\\\n",
       "\t26 & edge\\_mask[26] & 0.05 & 0.218054 & 0.00689547 & 0.00494413 & 1069.67 & 0.999084 & 4.31797 \\\\\n",
       "\t27 & edge\\_mask[27] & 0.051 & 0.220108 & 0.00696042 & 0.00622718 & 995.868 & 0.999185 & 4.02004 \\\\\n",
       "\t28 & edge\\_mask[28] & 0.062 & 0.241276 & 0.00762982 & 0.008 & 963.654 & 1.0001 & 3.89 \\\\\n",
       "\t29 & edge\\_mask[29] & 0.045 & 0.207408 & 0.00655881 & 0.005 & 960.324 & 0.999023 & 3.87656 \\\\\n",
       "\t30 & edge\\_mask[30] & 0.041 & 0.198389 & 0.00627362 & 0.00752034 & 942.376 & 1.0033 & 3.80411 \\\\\n",
       "\t$\\dots$ & $\\dots$ & $\\dots$ & $\\dots$ & $\\dots$ & $\\dots$ & $\\dots$ & $\\dots$ & $\\dots$ \\\\\n",
       "\\end{tabular}\n"
      ],
      "text/plain": [
       "\u001b[1m47×8 DataFrame\u001b[0m\n",
       "\u001b[1m Row \u001b[0m│\u001b[1m parameters    \u001b[0m\u001b[1m mean    \u001b[0m\u001b[1m std      \u001b[0m\u001b[1m naive_se   \u001b[0m\u001b[1m mcse       \u001b[0m\u001b[1m ess      \u001b[0m\u001b[1m rha\u001b[0m ⋯\n",
       "\u001b[1m     \u001b[0m│\u001b[90m Symbol        \u001b[0m\u001b[90m Float64 \u001b[0m\u001b[90m Float64  \u001b[0m\u001b[90m Float64    \u001b[0m\u001b[90m Float64    \u001b[0m\u001b[90m Float64  \u001b[0m\u001b[90m Flo\u001b[0m ⋯\n",
       "─────┼──────────────────────────────────────────────────────────────────────────\n",
       "   1 │ edge_mask[1]     0.05   0.218054  0.00689547  0.00537484  1069.97   0.9 ⋯\n",
       "   2 │ edge_mask[2]     0.042  0.20069   0.00634636  0.00592546   998.521  1.0\n",
       "   3 │ edge_mask[3]     0.066  0.248406  0.0078553   0.00909212  1048.5    1.0\n",
       "   4 │ edge_mask[4]     0.06   0.237606  0.00751375  0.0068313    926.618  0.9\n",
       "   5 │ edge_mask[5]     0.049  0.215976  0.00682976  0.00525991  1021.52   0.9 ⋯\n",
       "   6 │ edge_mask[6]     0.059  0.235743  0.00745484  0.0101598    926.894  0.9\n",
       "   7 │ edge_mask[7]     0.045  0.207408  0.00655881  0.00477261  1004.22   0.9\n",
       "   8 │ edge_mask[8]     0.05   0.218054  0.00689547  0.00516398   942.923  0.9\n",
       "   9 │ edge_mask[9]     0.05   0.218054  0.00689547  0.00537484  1025.79   0.9 ⋯\n",
       "  10 │ edge_mask[10]    0.054  0.226131  0.00715088  0.0101325    895.34   0.9\n",
       "  11 │ edge_mask[11]    0.052  0.222138  0.00702462  0.0069602    952.491  0.9\n",
       "  ⋮  │       ⋮           ⋮        ⋮          ⋮           ⋮          ⋮          ⋱\n",
       "  38 │ edge_mask[38]    0.044  0.205198  0.00648892  0.00498888  1051.07   0.9\n",
       "  39 │ edge_mask[39]    0.045  0.207408  0.00655881  0.00636832   846.591  0.9 ⋯\n",
       "  40 │ edge_mask[40]    0.051  0.220108  0.00696042  0.00737111   913.118  0.9\n",
       "  41 │ edge_mask[41]    0.043  0.202959  0.00641811  0.00817177   782.26   0.9\n",
       "  42 │ edge_mask[42]    0.043  0.202959  0.00641811  0.0061554    992.969  1.0\n",
       "  43 │ edge_mask[43]    0.055  0.228094  0.00721298  0.00542627   793.28   0.9 ⋯\n",
       "  44 │ edge_mask[44]    0.057  0.231959  0.00733518  0.0061554    993.555  0.9\n",
       "  45 │ edge_mask[45]    0.054  0.226131  0.00715088  0.006        962.982  0.9\n",
       "  46 │ edge_mask[46]    0.047  0.211745  0.00669596  0.00517472   891.493  0.9\n",
       "  47 │ y_bar            1.998  0.044699  0.00141351  0.00133333  1008.1    0.9 ⋯\n",
       "\u001b[36m                                                   2 columns and 26 rows omitted\u001b[0m"
      ]
     },
     "execution_count": 3,
     "metadata": {},
     "output_type": "execute_result"
    }
   ],
   "source": [
    "@time s = sample(model, 1000)\n",
    "final_summary(s)\n",
    "#serialize(\"/gpfs_home/spate116/singhlab/GCN_Integration/scripts/BI/hic_gcn/explain/samples$(node).jls\", [s, model.ei, model.y])"
   ]
  },
  {
   "cell_type": "code",
   "execution_count": 9,
   "metadata": {},
   "outputs": [
    {
     "data": {
      "text/plain": [
       "47-element Vector{Float64}:\n",
       " 0.035\n",
       " 0.037\n",
       " 0.041\n",
       " 0.041\n",
       " 0.042\n",
       " 0.043\n",
       " 0.043\n",
       " 0.044\n",
       " 0.045\n",
       " 0.045\n",
       " 0.045\n",
       " 0.045\n",
       " 0.047\n",
       " ⋮\n",
       " 0.057\n",
       " 0.057\n",
       " 0.057\n",
       " 0.058\n",
       " 0.058\n",
       " 0.059\n",
       " 0.06\n",
       " 0.062\n",
       " 0.064\n",
       " 0.066\n",
       " 0.068\n",
       " 1.998"
      ]
     },
     "execution_count": 9,
     "metadata": {},
     "output_type": "execute_result"
    }
   ],
   "source": [
    "final_summary(s).mean |> sort"
   ]
  },
  {
   "cell_type": "code",
   "execution_count": 4,
   "metadata": {},
   "outputs": [
    {
     "ename": "LoadError",
     "evalue": "BoundsError: attempt to access 2×46 Matrix{Int32} at index [1, 47]",
     "output_type": "error",
     "traceback": [
      "BoundsError: attempt to access 2×46 Matrix{Int32} at index [1, 47]",
      "",
      "Stacktrace:",
      "  [1] getindex(::Matrix{Int32}, ::Int64, ::Int64)",
      "    @ Base ./array.jl:802",
      "  [2] (::var\"#11#17\")(i::Int64)",
      "    @ Main ./none:0",
      "  [3] iterate",
      "    @ ./generator.jl:47 [inlined]",
      "  [4] _all",
      "    @ ./reduce.jl:930 [inlined]",
      "  [5] all",
      "    @ ./reduce.jl:918 [inlined]",
      "  [6] Dict(kv::Base.Generator{UnitRange{Int64}, var\"#11#17\"})",
      "    @ Base ./dict.jl:131",
      "  [7] plot_result(ei::Matrix{Int32}, y::Vector{Int64}, result::Chains{Float64, AxisArrays.AxisArray{Float64, 3, Array{Float64, 3}, Tuple{AxisArrays.Axis{:iter, StepRange{Int64, Int64}}, AxisArrays.Axis{:var, Vector{Symbol}}, AxisArrays.Axis{:chain, UnitRange{Int64}}}}, Float64, NamedTuple{(:parameters, :internals), Tuple{Vector{Symbol}, Vector{Symbol}}}, NamedTuple{(:start_time, :stop_time), Tuple{Float64, Float64}}}, k::Int64, weight::Int64, dlpy::Bool, filter::Bool)",
      "    @ Main /gpfs/home/spate116/singhlab/GCN_Integration/scripts/BI/bayesian_method/model.jl:85",
      "  [8] plot_result(model::PyGInferenceModel, result::Chains{Float64, AxisArrays.AxisArray{Float64, 3, Array{Float64, 3}, Tuple{AxisArrays.Axis{:iter, StepRange{Int64, Int64}}, AxisArrays.Axis{:var, Vector{Symbol}}, AxisArrays.Axis{:chain, UnitRange{Int64}}}}, Float64, NamedTuple{(:parameters, :internals), Tuple{Vector{Symbol}, Vector{Symbol}}}, NamedTuple{(:start_time, :stop_time), Tuple{Float64, Float64}}}, k::Int64, weight::Int64, dlpy::Bool, filter::Bool)",
      "    @ Main /gpfs/home/spate116/singhlab/GCN_Integration/scripts/BI/bayesian_method/model.jl:105",
      "  [9] top-level scope",
      "    @ In[4]:1",
      " [10] eval",
      "    @ ./boot.jl:360 [inlined]",
      " [11] include_string(mapexpr::typeof(REPL.softscope), mod::Module, code::String, filename::String)",
      "    @ Base ./loading.jl:1094"
     ]
    }
   ],
   "source": [
    "plt = plot_result(model, s, 0, 2, true, false);"
   ]
  },
  {
   "cell_type": "code",
   "execution_count": 5,
   "metadata": {},
   "outputs": [
    {
     "ename": "LoadError",
     "evalue": "No current plot/subplot",
     "output_type": "error",
     "traceback": [
      "No current plot/subplot",
      "",
      "Stacktrace:",
      " [1] error(s::String)",
      "   @ Base ./error.jl:33",
      " [2] current",
      "   @ ~/.julia/packages/Plots/vVVub/src/plot.jl:15 [inlined]",
      " [3] savefig(fn::String)",
      "   @ Plots ~/.julia/packages/Plots/vVVub/src/output.jl:129",
      " [4] top-level scope",
      "   @ In[5]:1",
      " [5] eval",
      "   @ ./boot.jl:360 [inlined]",
      " [6] include_string(mapexpr::typeof(REPL.softscope), mod::Module, code::String, filename::String)",
      "   @ Base ./loading.jl:1094"
     ]
    }
   ],
   "source": [
    "savefig(\"/gpfs_home/spate116/singhlab/GCN_Integration/scripts/BI/hic_gcn/explain/node$(node)BI.png\")\n",
    "edge_labels = npzread(\"/gpfs_home/spate116/singhlab/GCN_Integration/scripts/BI/examples/syn/data/syn4_edge_labels.npy\")"
   ]
  }
 ],
 "metadata": {
  "kernelspec": {
   "display_name": "Julia 1.6.1",
   "language": "julia",
   "name": "julia-1.6"
  },
  "language_info": {
   "file_extension": ".jl",
   "mimetype": "application/julia",
   "name": "julia",
   "version": "1.6.1"
  }
 },
 "nbformat": 4,
 "nbformat_minor": 4
}
