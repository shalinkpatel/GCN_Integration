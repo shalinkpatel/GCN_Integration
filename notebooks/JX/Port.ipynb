{
 "cells": [
  {
   "cell_type": "code",
   "execution_count": 1,
   "metadata": {},
   "outputs": [],
   "source": [
    "from ordered_set import OrderedSet\n",
    "from six.moves import cPickle as pickle \n",
    "from collections import defaultdict\n",
    "from scipy.sparse import load_npz\n",
    "from scipy.sparse import csr_matrix\n",
    "\n",
    "import numpy as np\n",
    "import torch\n",
    "import torch_geometric\n",
    "import networkx as nx"
   ]
  },
  {
   "cell_type": "code",
   "execution_count": 2,
   "metadata": {},
   "outputs": [],
   "source": [
    "def load_dict(filename_):\n",
    "    with open(filename_, 'rb') as f:\n",
    "        ret_dict = pickle.load(f)\n",
    "    return ret_dict"
   ]
  },
  {
   "cell_type": "code",
   "execution_count": 3,
   "metadata": {},
   "outputs": [],
   "source": [
    "mat = load_npz('/gpfs/data/rsingh47/jbigness/data/E116/hic_sparse_vcsqrt_oe_edge_v7.npz')"
   ]
  },
  {
   "cell_type": "code",
   "execution_count": 4,
   "metadata": {},
   "outputs": [],
   "source": [
    "hms = np.load('/gpfs/data/rsingh47/jbigness/data/E116/np_hmods_norm_vcsqrt_oe_edge_v7.npy')\n",
    "labs = np.load('/gpfs/data/rsingh47/jbigness/data/E116/np_nodes_lab_genes_vcsqrt_oe_edge_v7.npy')"
   ]
  },
  {
   "cell_type": "code",
   "execution_count": 5,
   "metadata": {},
   "outputs": [],
   "source": [
    "mask = torch.tensor(labs[:,-1]).long()\n",
    "X = torch.tensor(hms[:mat.shape[0]]).float().reshape(-1, 1, 100, 5)\n",
    "y = torch.tensor(labs[:,-2]).long()"
   ]
  },
  {
   "cell_type": "code",
   "execution_count": 6,
   "metadata": {},
   "outputs": [],
   "source": [
    "extract = torch_geometric.utils.from_scipy_sparse_matrix(mat)\n",
    "data = torch_geometric.data.Data(edge_index = extract[0], edge_attr = extract[1], x = X, y = y)\n",
    "G = data"
   ]
  },
  {
   "cell_type": "code",
   "execution_count": 12,
   "metadata": {},
   "outputs": [],
   "source": [
    "from torch_geometric.nn import SAGEConv, ChebConv, TAGConv, GATConv, ARMAConv\n",
    "import torch.nn as nn\n",
    "import torch.nn.functional as F\n",
    "\n",
    "class GCN(nn.Module):\n",
    "    def __init__(self, in_feats, hidden_size, hidden_size1, num_classes):\n",
    "        super(GCN, self).__init__()\n",
    "        self.conv1 = TAGConv(in_feats, hidden_size, K = 3)\n",
    "        self.conv2 = TAGConv(hidden_size, hidden_size1)\n",
    "        self.conv3 = TAGConv(hidden_size1, num_classes)\n",
    "        x = 10\n",
    "        self.encoder = nn.Sequential(\n",
    "            nn.Conv2d(1, x, (3, 3)),\n",
    "            nn.LeakyReLU(),\n",
    "            nn.Dropout2d(),\n",
    "            nn.Conv2d(x, 2*x, (3, 2)),\n",
    "            nn.LeakyReLU(),\n",
    "            nn.Dropout2d(),\n",
    "            nn.Conv2d(2*x, 1, (3, 2)),\n",
    "        )\n",
    "\n",
    "    def forward(self, g, inputs):\n",
    "        h = self.encoder(inputs).reshape(-1, 94)\n",
    "        h = torch.tanh(h)\n",
    "        h = F.dropout(h, training=self.training)\n",
    "        h = self.conv1(h, g.edge_index)\n",
    "        h = torch.tanh(h)\n",
    "        h = F.dropout(h, training=self.training)\n",
    "        h = self.conv2(h, g.edge_index)\n",
    "        h = torch.tanh(h)\n",
    "        h = F.dropout(h, training=self.training)\n",
    "        h = self.conv3(h, g.edge_index)\n",
    "        h = F.softmax(h, dim=1)\n",
    "        return h"
   ]
  },
  {
   "cell_type": "code",
   "execution_count": 13,
   "metadata": {},
   "outputs": [],
   "source": [
    "from tqdm import tqdm\n",
    "from sklearn.metrics import roc_auc_score, roc_curve\n",
    "\n",
    "device = torch.device('cuda')\n",
    "def train_model(net, graph, epochs, learning_rate, train_mask, test_mask, mask):\n",
    "    model = net.to(device)\n",
    "    graph = graph.to(device)\n",
    "    samples = len(graph.y)\n",
    "    correct = graph.y.cpu().numpy().tolist()\n",
    "\n",
    "    optimizer = torch.optim.Adam(model.parameters(), lr=learning_rate)\n",
    "    scheduler = torch.optim.lr_scheduler.ReduceLROnPlateau(optimizer)\n",
    "    losses_train = []\n",
    "    losses_test = []\n",
    "    best_auc = -1\n",
    "    correct_pred = [G.y.cpu().numpy()[i] for i in test_mask]\n",
    "\n",
    "    weight_one = sum(G.y.cpu().numpy().tolist())/samples\n",
    "    weight = torch.tensor([weight_one, 1-weight_one]).to(device)\n",
    "\n",
    "    pbar = tqdm(range(epochs))\n",
    "    for epoch in pbar:\n",
    "        model.train()\n",
    "        logits = model(graph, graph.x.float())[mask]\n",
    "\n",
    "        loss = F.cross_entropy(logits[train_mask], graph.y[train_mask], weight=weight)\n",
    "        loss_test = F.cross_entropy(logits[test_mask], graph.y[test_mask], weight=weight)\n",
    "        losses_train.append(loss.item())\n",
    "        losses_test.append(loss_test.item())\n",
    "\n",
    "        optimizer.zero_grad()\n",
    "        loss.backward()\n",
    "        optimizer.step()\n",
    "\n",
    "        model.eval()\n",
    "        pred = list(map(lambda x: np.argmax(x, axis = 0), torch.exp(F.log_softmax(logits, 1)).cpu().detach().numpy()))\n",
    "        auc = roc_auc_score(correct_pred, [pred[i] for i in test_mask], average='weighted')\n",
    "        best_auc = best_auc if best_auc > auc else auc\n",
    "\n",
    "        pbar.set_description('Best Test AUC: %.4f | Train Loss: %.4f | Test Loss: %.4f' % (best_auc, loss.item(), loss_test.item()))\n",
    "\n",
    "    return losses_train, losses_test, model, best_auc"
   ]
  },
  {
   "cell_type": "code",
   "execution_count": 14,
   "metadata": {},
   "outputs": [],
   "source": [
    "import random\n",
    "random.seed(30)\n",
    "idx = list(range(G.y.shape[0]))\n",
    "random.shuffle(idx)\n",
    "train_mask = idx[:10000]\n",
    "test_mask = idx[10000:]"
   ]
  },
  {
   "cell_type": "code",
   "execution_count": 15,
   "metadata": {},
   "outputs": [],
   "source": [
    "net = GCN(94, 75, 50, 2)"
   ]
  },
  {
   "cell_type": "code",
   "execution_count": null,
   "metadata": {},
   "outputs": [],
   "source": [
    "losses_train, losses_test, model, best_auc = train_model(net, G, 4000, 0.01, train_mask, test_mask, mask)"
   ]
  }
 ],
 "metadata": {
  "kernelspec": {
   "display_name": "Python 3",
   "language": "python",
   "name": "python3"
  },
  "language_info": {
   "codemirror_mode": {
    "name": "ipython",
    "version": 3
   },
   "file_extension": ".py",
   "mimetype": "text/x-python",
   "name": "python",
   "nbconvert_exporter": "python",
   "pygments_lexer": "ipython3",
   "version": "3.7.4"
  }
 },
 "nbformat": 4,
 "nbformat_minor": 4
}
