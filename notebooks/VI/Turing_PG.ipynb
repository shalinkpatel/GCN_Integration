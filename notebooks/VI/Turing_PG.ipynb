{
 "cells": [
  {
   "cell_type": "code",
   "execution_count": 3,
   "metadata": {},
   "outputs": [
    {
     "output_type": "stream",
     "name": "stderr",
     "text": "┌ Warning: Could not find find a project file by recursively checking given `path` and its parents. Returning `nothing` instead.\n└ @ DrWatson /users/spate116/.julia/packages/DrWatson/bZN70/src/project_setup.jl:84\n"
    }
   ],
   "source": [
    "using DrWatson\n",
    "@quickactivate \"GCN_HM_GRN-Integration\"\n",
    "using Turing, PyCall "
   ]
  },
  {
   "cell_type": "code",
   "execution_count": 5,
   "metadata": {},
   "outputs": [
    {
     "output_type": "error",
     "ename": "PyCall.PyError",
     "evalue": "PyError (PyImport_ImportModule\n\nThe Python package gcn could not be found by pyimport. Usually this means\nthat you did not install gcn in the Python version being used by PyCall.\n\nPyCall is currently configured to use the Python version at:\n\n/gpfs_home/spate116/ml/bin/python3\n\nand you should use whatever mechanism you usually use (apt-get, pip, conda,\netcetera) to install the Python package containing the gcn module.\n\nOne alternative is to re-configure PyCall to use a different Python\nversion on your system: set ENV[\"PYTHON\"] to the path/name of the python\nexecutable you want to use, run Pkg.build(\"PyCall\"), and re-launch Julia.\n\nAnother alternative is to configure PyCall to use a Julia-specific Python\ndistribution via the Conda.jl package (which installs a private Anaconda\nPython distribution), which has the advantage that packages can be installed\nand kept up-to-date via Julia.  As explained in the PyCall documentation,\nset ENV[\"PYTHON\"]=\"\", run Pkg.build(\"PyCall\"), and re-launch Julia. Then,\nTo install the gcn module, you can use `pyimport_conda(\"gcn\", PKG)`,\nwhere PKG is the Anaconda package the contains the module gcn,\nor alternatively you can use the Conda package directly (via\n`using Conda` followed by `Conda.add` etcetera).\n\n) <class 'ModuleNotFoundError'>\nModuleNotFoundError(\"No module named 'gcn'\")\n",
     "traceback": [
      "PyError (PyImport_ImportModule\n\nThe Python package gcn could not be found by pyimport. Usually this means\nthat you did not install gcn in the Python version being used by PyCall.\n\nPyCall is currently configured to use the Python version at:\n\n/gpfs_home/spate116/ml/bin/python3\n\nand you should use whatever mechanism you usually use (apt-get, pip, conda,\netcetera) to install the Python package containing the gcn module.\n\nOne alternative is to re-configure PyCall to use a different Python\nversion on your system: set ENV[\"PYTHON\"] to the path/name of the python\nexecutable you want to use, run Pkg.build(\"PyCall\"), and re-launch Julia.\n\nAnother alternative is to configure PyCall to use a Julia-specific Python\ndistribution via the Conda.jl package (which installs a private Anaconda\nPython distribution), which has the advantage that packages can be installed\nand kept up-to-date via Julia.  As explained in the PyCall documentation,\nset ENV[\"PYTHON\"]=\"\", run Pkg.build(\"PyCall\"), and re-launch Julia. Then,\nTo install the gcn module, you can use `pyimport_conda(\"gcn\", PKG)`,\nwhere PKG is the Anaconda package the contains the module gcn,\nor alternatively you can use the Conda package directly (via\n`using Conda` followed by `Conda.add` etcetera).\n\n) <class 'ModuleNotFoundError'>\nModuleNotFoundError(\"No module named 'gcn'\")\n",
      "",
      "Stacktrace:",
      " [1] pyimport(::String) at /users/spate116/.julia/packages/PyCall/zqDXB/src/PyCall.jl:536",
      " [2] top-level scope at In[5]:2"
     ]
    }
   ],
   "source": [
    "pushfirst!(PyVector(pyimport(\"sys\").\"path\"), \"\");\n",
    "train_model = pyimport(\"gcn\").train_model\n",
    "run_model = pyimport(\"gcn\").run_model\n",
    "extract_subgraph = pyimport(\"gcn\").extract_subgraph\n",
    "pyimport(\"sys\").\"stdout\" = PyTextIO(stdout)\n",
    "pyimport(\"sys\").\"stderr\" = PyTextIO(stderr)"
   ]
  },
  {
   "cell_type": "code",
   "execution_count": 6,
   "metadata": {},
   "outputs": [
    {
     "output_type": "error",
     "ename": "ArgumentError",
     "evalue": "ArgumentError: Package Zygote not found in current path:\n- Run `import Pkg; Pkg.add(\"Zygote\")` to install the Zygote package.\n",
     "traceback": [
      "ArgumentError: Package Zygote not found in current path:\n- Run `import Pkg; Pkg.add(\"Zygote\")` to install the Zygote package.\n",
      "",
      "Stacktrace:",
      " [1] require(::Module, ::Symbol) at ./loading.jl:892",
      " [2] top-level scope at In[6]:1"
     ]
    }
   ],
   "source": [
    "using Zygote\n",
    "Zygote.@adjoint function pycall(f, x...; kw...)\n",
    "    x = map(py, x)\n",
    "    y = pycall(f, x...; kw...)\n",
    "    y.detach().numpy(), function (ȳ)\n",
    "        y.backward(gradient = py(ȳ))\n",
    "        (nothing, map(x->x.grad.numpy(), x)...)\n",
    "    end\n",
    "end"
   ]
  },
  {
   "cell_type": "code",
   "execution_count": 7,
   "metadata": {},
   "outputs": [
    {
     "output_type": "error",
     "ename": "UndefVarError",
     "evalue": "UndefVarError: train_model not defined",
     "traceback": [
      "UndefVarError: train_model not defined",
      "",
      "Stacktrace:",
      " [1] top-level scope at In[7]:2"
     ]
    }
   ],
   "source": [
    "node = 10\n",
    "model, x, y, edge_index = train_model();\n",
    "edge_index, node_idx = extract_subgraph(node, 2, edge_index)\n",
    "edge_mask = repeat([1], get(edge_index.\"shape\", 1));"
   ]
  },
  {
   "cell_type": "code",
   "execution_count": 5,
   "metadata": {},
   "outputs": [
    {
     "data": {
      "text/plain": [
       "DynamicPPL.ModelGen{var\"###generator#427\",(:y,),(),Tuple{}}(##generator#427, NamedTuple())"
      ]
     },
     "execution_count": 5,
     "metadata": {},
     "output_type": "execute_result"
    }
   ],
   "source": [
    "using Flux\n",
    "Turing.setadbackend(:zygote)\n",
    "@model graph_mask(y) = begin\n",
    "    N = get(edge_index.\"shape\", 1)\n",
    "    edge_mask = Vector{Int}(undef, N)\n",
    "    for i ∈ 1:N\n",
    "        edge_mask[i] ~ Bernoulli(0.1)\n",
    "    end\n",
    "    pred = run_model(edge_mask, edge_index, model, node_idx)\n",
    "    y = y/sum(y)\n",
    "    y ~ MvNormal(pred/sum(pred), repeat([0.0001], length(y)))\n",
    "end"
   ]
  },
  {
   "cell_type": "code",
   "execution_count": 6,
   "metadata": {},
   "outputs": [
    {
     "name": "stderr",
     "output_type": "stream",
     "text": [
      "\u001b[32mSampling: 100%|█████████████████████████████████████████| Time: 0:02:20\u001b[39m\n"
     ]
    }
   ],
   "source": [
    "s = sample(graph_mask(run_model(repeat([1], get(edge_index.\"shape\", 1)), edge_index, model, node_idx)), PG(2), 25000);"
   ]
  },
  {
   "cell_type": "code",
   "execution_count": 7,
   "metadata": {},
   "outputs": [
    {
     "data": {
      "text/plain": [
       "Summary Statistics\n",
       " \u001b[0m\u001b[1m    parameters \u001b[0m \u001b[0m\u001b[1m    mean \u001b[0m \u001b[0m\u001b[1m     std \u001b[0m \u001b[0m\u001b[1m naive_se \u001b[0m \u001b[0m\u001b[1m    mcse \u001b[0m \u001b[0m\u001b[1m        ess \u001b[0m \u001b[0m\u001b[1m    rhat \u001b[0m \u001b[0m\n",
       " \u001b[0m\u001b[90m        Symbol \u001b[0m \u001b[0m\u001b[90m Float64 \u001b[0m \u001b[0m\u001b[90m Float64 \u001b[0m \u001b[0m\u001b[90m  Float64 \u001b[0m \u001b[0m\u001b[90m Float64 \u001b[0m \u001b[0m\u001b[90m    Float64 \u001b[0m \u001b[0m\u001b[90m Float64 \u001b[0m \u001b[0m\n",
       " \u001b[0m               \u001b[0m \u001b[0m         \u001b[0m \u001b[0m         \u001b[0m \u001b[0m          \u001b[0m \u001b[0m         \u001b[0m \u001b[0m            \u001b[0m \u001b[0m         \u001b[0m \u001b[0m\n",
       " \u001b[0m  edge_mask[1] \u001b[0m \u001b[0m  0.1276 \u001b[0m \u001b[0m  0.3336 \u001b[0m \u001b[0m   0.0021 \u001b[0m \u001b[0m  0.0208 \u001b[0m \u001b[0m    56.5673 \u001b[0m \u001b[0m  1.0977 \u001b[0m \u001b[0m\n",
       " \u001b[0m  edge_mask[2] \u001b[0m \u001b[0m  0.8714 \u001b[0m \u001b[0m  0.3348 \u001b[0m \u001b[0m   0.0021 \u001b[0m \u001b[0m  0.0209 \u001b[0m \u001b[0m    56.6888 \u001b[0m \u001b[0m  1.0948 \u001b[0m \u001b[0m\n",
       " \u001b[0m  edge_mask[3] \u001b[0m \u001b[0m  0.4189 \u001b[0m \u001b[0m  0.4934 \u001b[0m \u001b[0m   0.0031 \u001b[0m \u001b[0m  0.0311 \u001b[0m \u001b[0m    51.4040 \u001b[0m \u001b[0m  2.2274 \u001b[0m \u001b[0m\n",
       " \u001b[0m  edge_mask[4] \u001b[0m \u001b[0m  0.9751 \u001b[0m \u001b[0m  0.1558 \u001b[0m \u001b[0m   0.0010 \u001b[0m \u001b[0m  0.0096 \u001b[0m \u001b[0m    65.1074 \u001b[0m \u001b[0m  1.0258 \u001b[0m \u001b[0m\n",
       " \u001b[0m  edge_mask[5] \u001b[0m \u001b[0m  0.4171 \u001b[0m \u001b[0m  0.4931 \u001b[0m \u001b[0m   0.0031 \u001b[0m \u001b[0m  0.0311 \u001b[0m \u001b[0m    51.1915 \u001b[0m \u001b[0m  2.2548 \u001b[0m \u001b[0m\n",
       " \u001b[0m  edge_mask[6] \u001b[0m \u001b[0m  0.0004 \u001b[0m \u001b[0m  0.0210 \u001b[0m \u001b[0m   0.0001 \u001b[0m \u001b[0m  0.0004 \u001b[0m \u001b[0m  2512.5978 \u001b[0m \u001b[0m  1.0004 \u001b[0m \u001b[0m\n",
       " \u001b[0m  edge_mask[7] \u001b[0m \u001b[0m  0.0001 \u001b[0m \u001b[0m  0.0110 \u001b[0m \u001b[0m   0.0001 \u001b[0m \u001b[0m  0.0001 \u001b[0m \u001b[0m 14650.9041 \u001b[0m \u001b[0m  1.0001 \u001b[0m \u001b[0m\n",
       " \u001b[0m  edge_mask[8] \u001b[0m \u001b[0m  0.0076 \u001b[0m \u001b[0m  0.0866 \u001b[0m \u001b[0m   0.0005 \u001b[0m \u001b[0m  0.0050 \u001b[0m \u001b[0m   137.9516 \u001b[0m \u001b[0m  1.0076 \u001b[0m \u001b[0m\n",
       " \u001b[0m  edge_mask[9] \u001b[0m \u001b[0m  0.3028 \u001b[0m \u001b[0m  0.4595 \u001b[0m \u001b[0m   0.0029 \u001b[0m \u001b[0m  0.0290 \u001b[0m \u001b[0m    51.5955 \u001b[0m \u001b[0m  1.5195 \u001b[0m \u001b[0m\n",
       " \u001b[0m edge_mask[10] \u001b[0m \u001b[0m  0.0002 \u001b[0m \u001b[0m  0.0155 \u001b[0m \u001b[0m   0.0001 \u001b[0m \u001b[0m  0.0002 \u001b[0m \u001b[0m  8333.7791 \u001b[0m \u001b[0m  1.0002 \u001b[0m \u001b[0m\n",
       " \u001b[0m edge_mask[11] \u001b[0m \u001b[0m  0.2961 \u001b[0m \u001b[0m  0.4565 \u001b[0m \u001b[0m   0.0029 \u001b[0m \u001b[0m  0.0289 \u001b[0m \u001b[0m    50.7769 \u001b[0m \u001b[0m  1.5641 \u001b[0m \u001b[0m\n",
       " \u001b[0m edge_mask[12] \u001b[0m \u001b[0m  0.8710 \u001b[0m \u001b[0m  0.3352 \u001b[0m \u001b[0m   0.0021 \u001b[0m \u001b[0m  0.0210 \u001b[0m \u001b[0m    56.7151 \u001b[0m \u001b[0m  1.0938 \u001b[0m \u001b[0m\n"
      ]
     },
     "execution_count": 7,
     "metadata": {},
     "output_type": "execute_result"
    }
   ],
   "source": [
    "describe(s)[1]"
   ]
  },
  {
   "cell_type": "code",
   "execution_count": 8,
   "metadata": {},
   "outputs": [
    {
     "data": {
      "text/plain": [
       "2×12 Array{Int64,2}:\n",
       "  10    10  306  476  476   476   476   476  1140  1800  1986  2545\n",
       " 476  2545  476   10  306  1140  1800  1986   476   476   476    10"
      ]
     },
     "execution_count": 8,
     "metadata": {},
     "output_type": "execute_result"
    }
   ],
   "source": [
    "ei = edge_index.\"detach\"().\"cpu\"().\"numpy\"()"
   ]
  },
  {
   "cell_type": "code",
   "execution_count": 9,
   "metadata": {},
   "outputs": [
    {
     "data": {
      "text/plain": [
       "7-element Array{Float32,1}:\n",
       " 0.00010267622\n",
       " 0.1081773\n",
       " 0.18511724\n",
       " 0.18290088\n",
       " 0.18526357\n",
       " 0.17643231\n",
       " 0.16200605"
      ]
     },
     "execution_count": 9,
     "metadata": {},
     "output_type": "execute_result"
    }
   ],
   "source": [
    "base = run_model(repeat([1], get(edge_index.\"shape\", 1)), edge_index, model, node_idx)\n",
    "base/sum(base)"
   ]
  },
  {
   "cell_type": "code",
   "execution_count": 10,
   "metadata": {},
   "outputs": [
    {
     "data": {
      "text/plain": [
       "7-element Array{Float32,1}:\n",
       " 0.00010563628\n",
       " 0.10922247\n",
       " 0.18864955\n",
       " 0.1907632\n",
       " 0.18037052\n",
       " 0.16977596\n",
       " 0.16111264"
      ]
     },
     "execution_count": 10,
     "metadata": {},
     "output_type": "execute_result"
    }
   ],
   "source": [
    "using DataFrames\n",
    "ŷ = run_model([x > 0.1 ? 1 : 0 for x ∈ DataFrame(describe(s)[1])[!, 2]], edge_index, model, node_idx)\n",
    "ŷ/sum(ŷ)"
   ]
  },
  {
   "cell_type": "code",
   "execution_count": 11,
   "metadata": {},
   "outputs": [
    {
     "data": {
      "text/plain": [
       "Dict{Tuple{Int64,Int64},Float64} with 12 entries:\n",
       "  (2545, 10)  => 0.871\n",
       "  (476, 1140) => 0.00044\n",
       "  (10, 2545)  => 0.87136\n",
       "  (10, 476)   => 0.12756\n",
       "  (476, 1800) => 0.00012\n",
       "  (1986, 476) => 0.29608\n",
       "  (1140, 476) => 0.30284\n",
       "  (476, 10)   => 0.97512\n",
       "  (306, 476)  => 0.41892\n",
       "  (476, 306)  => 0.41712\n",
       "  (1800, 476) => 0.00024\n",
       "  (476, 1986) => 0.00756"
      ]
     },
     "execution_count": 11,
     "metadata": {},
     "output_type": "execute_result"
    }
   ],
   "source": [
    "using GraphRecipes\n",
    "using Plots\n",
    "using LightGraphs\n",
    "\n",
    "uni = unique(ei);\n",
    "conv = Dict(uni[i] => i for i ∈ 1:length(uni));\n",
    "conv_rev = Dict(i => uni[i] for i ∈ 1:length(uni));\n",
    "vals = DataFrame(describe(s)[1])[!, 2];\n",
    "weigh = Dict((ei[1, i], ei[2, i]) => vals[i] for i ∈ 1:length(vals))"
   ]
  },
  {
   "cell_type": "code",
   "execution_count": null,
   "metadata": {},
   "outputs": [],
   "source": [
    "ei_conv = map(x -> conv[x], ei)\n",
    "inp = ei_conv\n",
    "classes = y.\"detach\"().\"cpu\"().\"numpy\"()[unique(map(x -> conv_rev[x], inp))]"
   ]
  },
  {
   "cell_type": "code",
   "execution_count": null,
   "metadata": {},
   "outputs": [],
   "source": [
    "g = DiGraph(Edge.(zip(inp[1, :], inp[2, :])))\n",
    "\n",
    "graphplot(g, names=uni, arrow=true, nodecolor=classes, edgewidth=(s, d, w)-> weigh[(conv_rev[s],conv_rev[d])])\n",
    "savefig(\"out.png\")"
   ]
  }
 ],
 "metadata": {
  "kernelspec": {
   "display_name": "Julia 1.4.1",
   "language": "julia",
   "name": "julia-1.4"
  },
  "language_info": {
   "file_extension": ".jl",
   "mimetype": "application/julia",
   "name": "julia",
   "version": "1.4.1"
  }
 },
 "nbformat": 4,
 "nbformat_minor": 4
}