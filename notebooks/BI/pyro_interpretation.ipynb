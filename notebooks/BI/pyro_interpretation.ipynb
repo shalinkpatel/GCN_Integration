{
 "cells": [
  {
   "cell_type": "code",
   "execution_count": 81,
   "id": "specialized-fleece",
   "metadata": {},
   "outputs": [
    {
     "name": "stderr",
     "output_type": "stream",
     "text": [
      "Loss -> 0.04788: 100%|██████████| 1000/1000 [00:41<00:00, 24.34it/s]\n"
     ]
    },
    {
     "data": {
      "text/plain": [
       "Net(\n",
       "  (conv1): GCNConv(1433, 32)\n",
       "  (conv2): GCNConv(32, 16)\n",
       "  (linear): Linear(in_features=16, out_features=1433, bias=True)\n",
       ")"
      ]
     },
     "execution_count": 81,
     "metadata": {},
     "output_type": "execute_result"
    }
   ],
   "source": [
    "import os.path as osp\n",
    "\n",
    "import torch\n",
    "import torch.nn.functional as F\n",
    "import matplotlib.pyplot as plt\n",
    "from torch_geometric.datasets import Planetoid\n",
    "import torch_geometric.transforms as T\n",
    "from torch_geometric.nn import GCNConv, GNNExplainer\n",
    "\n",
    "from tqdm import tqdm\n",
    "\n",
    "dataset = 'Cora'\n",
    "path = osp.join('data', 'Planetoid')\n",
    "dataset = Planetoid(path, dataset, transform=T.NormalizeFeatures())\n",
    "data = dataset[0]\n",
    "\n",
    "\n",
    "class Net(torch.nn.Module):\n",
    "    def __init__(self):\n",
    "        super(Net, self).__init__()\n",
    "        self.conv1 = GCNConv(dataset.num_features, 32)\n",
    "        self.conv2 = GCNConv(32, 16)\n",
    "        self.linear = torch.nn.Linear(16, dataset.num_features)\n",
    "\n",
    "    def forward(self, x, edge_index):\n",
    "        x = F.relu(self.conv1(x, edge_index))\n",
    "        x = F.dropout(x, training=self.training)\n",
    "        x = F.relu(self.conv2(x, edge_index))\n",
    "        x = self.linear(x)\n",
    "        return F.log_softmax(x, dim=1)\n",
    "\n",
    "\n",
    "device = torch.device('cuda' if torch.cuda.is_available() else 'cpu')\n",
    "model = Net().to(device)\n",
    "data = data.to(device)\n",
    "optimizer = torch.optim.Adam(model.parameters(), lr=0.01, weight_decay=5e-4)\n",
    "x, edge_index = data.x, data.edge_index\n",
    "\n",
    "pbar = tqdm(range(1000))\n",
    "for epoch in pbar:\n",
    "    model.train()\n",
    "    optimizer.zero_grad()\n",
    "    log_logits = model(x, edge_index)\n",
    "    loss = F.nll_loss(log_logits[data.train_mask], data.y[data.train_mask])\n",
    "    loss.backward()\n",
    "    optimizer.step()\n",
    "    pbar.set_description(\"Loss -> %.5f\" % loss.item())\n",
    "model.eval()"
   ]
  },
  {
   "cell_type": "code",
   "execution_count": 82,
   "id": "center-belize",
   "metadata": {},
   "outputs": [
    {
     "name": "stderr",
     "output_type": "stream",
     "text": [
      "Explain node 10: 100%|██████████| 200/200 [00:00<00:00, 409.53it/s]\n"
     ]
    },
    {
     "data": {
      "image/png": "[encoded data removed]",
      "text/plain": [
       "<Figure size 432x288 with 1 Axes>"
      ]
     },
     "metadata": {},
     "output_type": "display_data"
    }
   ],
   "source": [
    "explainer = GNNExplainer(model, epochs=200)\n",
    "node_idx = 10\n",
    "node_feat_mask, edge_mask = explainer.explain_node(node_idx, x, edge_index)\n",
    "ax, G = explainer.visualize_subgraph(node_idx, edge_index, edge_mask, y=data.y)\n",
    "plt.show()"
   ]
  },
  {
   "cell_type": "code",
   "execution_count": 106,
   "id": "negative-pursuit",
   "metadata": {},
   "outputs": [],
   "source": [
    "import os\n",
    "from functools import partial\n",
    "import torch\n",
    "import numpy as np\n",
    "import pandas as pd\n",
    "import seaborn as sns\n",
    "import matplotlib.pyplot as plt\n",
    "%matplotlib inline\n",
    "\n",
    "import pyro\n",
    "import pyro.distributions as dist\n",
    "\n",
    "from torch_geometric.utils import k_hop_subgraph\n",
    "\n",
    "n_hops = 2\n",
    "subset, edge_index_adj, mapping, edge_mask_hard = k_hop_subgraph(\n",
    "        node_idx, n_hops, edge_index, relabel_nodes=True)\n",
    "x_adj = x[subset]\n",
    "\n",
    "with torch.no_grad():\n",
    "    preds = model(x, edge_index_adj)\n",
    "    pred_labels = preds.argmax(dim=-1)"
   ]
  },
  {
   "cell_type": "code",
   "execution_count": 107,
   "id": "fitting-ideal",
   "metadata": {},
   "outputs": [],
   "source": [
    "import torch.distributions.constraints as constraints\n",
    "N = edge_index_adj.size(1)\n",
    "\n",
    "def sample_model(X, y):\n",
    "    alpha = torch.tensor([2.0 for i in range(N)])\n",
    "    beta = torch.tensor([4.0 for i in range(N)])\n",
    "    m = torch.zeros(N)\n",
    "    for i in range(N):\n",
    "        f = pyro.sample(\"f_%d\" % i, dist.Beta(alpha[i], beta[i]))\n",
    "        m[i] = pyro.sample(\"m_%d\" % i, dist.Bernoulli(f))\n",
    "    mean = model(X, edge_index_adj[:, m == 1])[mapping].reshape(-1)\n",
    "    y_sample = pyro.sample(\"y\", dist.MultivariateNormal(mean, 0.01 * torch.eye(mean.size(0))), obs = y)\n",
    "    \n",
    "def sample_guide(X, y):\n",
    "    alpha_q = pyro.param(\"alpha_q\", torch.tensor([2.0 for i in range(N)]), constraint=constraints.positive)\n",
    "    beta_q = pyro.param(\"beta_q\", torch.tensor([4.0 for i in range(N)]), constraint=constraints.positive)\n",
    "    m = torch.zeros(N)\n",
    "    for i in range(N):\n",
    "        f = pyro.sample(\"f_%d\" % i, dist.Beta(alpha_q[i], beta_q[i]))\n",
    "        m[i] = pyro.sample(\"m_%d\" % i, dist.Bernoulli(f))"
   ]
  },
  {
   "cell_type": "code",
   "execution_count": 143,
   "id": "sized-tribune",
   "metadata": {},
   "outputs": [],
   "source": [
    "def ma(l, window):\n",
    "    cumsum, moving_aves = [0], []\n",
    "\n",
    "    for i, x in enumerate(l, 1):\n",
    "        cumsum.append(cumsum[i-1] + x)\n",
    "        if i>=window:\n",
    "            moving_ave = (cumsum[i] - cumsum[i-window])/window\n",
    "            #can do stuff with moving_ave here\n",
    "            moving_aves.append(moving_ave)\n",
    "    return moving_aves"
   ]
  },
  {
   "cell_type": "code",
   "execution_count": 149,
   "id": "infinite-muslim",
   "metadata": {},
   "outputs": [
    {
     "name": "stderr",
     "output_type": "stream",
     "text": [
      "Loss -> 13553.0631: 100%|██████████| 5000/5000 [03:39<00:00, 22.76it/s] \n"
     ]
    }
   ],
   "source": [
    "from pyro.optim import Adam\n",
    "from pyro.infer import SVI, Trace_ELBO\n",
    "\n",
    "adam_params = {\"lr\": 0.0005, \"betas\": (0.95, 0.999)}\n",
    "optimizer = Adam(adam_params)\n",
    "# setup the inference algorithm\n",
    "svi = SVI(sample_model, sample_guide, optimizer, loss=Trace_ELBO())\n",
    "\n",
    "n_steps = 5000\n",
    "window = 1000\n",
    "# do gradient steps\n",
    "pbar = tqdm(range(n_steps))\n",
    "elbos = []\n",
    "for step in pbar:\n",
    "    elbo = svi.step(x_adj, preds[mapping[0]])\n",
    "    elbos.append(elbo)\n",
    "    avgs = ma(elbos, window)\n",
    "    if step >= window:\n",
    "        disp = avgs[-1]\n",
    "    else:\n",
    "        disp = elbo\n",
    "    pbar.set_description(\"Loss -> %.4f\" % disp)"
   ]
  },
  {
   "cell_type": "code",
   "execution_count": 150,
   "id": "committed-nomination",
   "metadata": {},
   "outputs": [
    {
     "data": {
      "text/plain": [
       "<AxesSubplot:>"
      ]
     },
     "execution_count": 150,
     "metadata": {},
     "output_type": "execute_result"
    },
    {
     "data": {
      "image/png": "[encoded data removed]",
      "text/plain": [
       "<Figure size 432x288 with 1 Axes>"
      ]
     },
     "metadata": {
      "needs_background": "light"
     },
     "output_type": "display_data"
    }
   ],
   "source": [
    "sns.lineplot(x=range(len(avgs)), y=avgs)"
   ]
  },
  {
   "cell_type": "code",
   "execution_count": 146,
   "id": "corrected-occurrence",
   "metadata": {},
   "outputs": [],
   "source": [
    "alpha = pyro.param('alpha_q')\n",
    "beta = pyro.param('beta_q')"
   ]
  },
  {
   "cell_type": "code",
   "execution_count": 147,
   "id": "decent-journal",
   "metadata": {},
   "outputs": [
    {
     "data": {
      "text/plain": [
       "tensor([0.3305, 0.6846, 0.0033, 0.9985, 0.4009, 0.1347, 0.4847, 0.9949, 0.0799,\n",
       "        0.0028, 0.9978, 0.0018], grad_fn=<DivBackward0>)"
      ]
     },
     "execution_count": 147,
     "metadata": {},
     "output_type": "execute_result"
    }
   ],
   "source": [
    "dist.Beta(alpha, beta).mean"
   ]
  },
  {
   "cell_type": "code",
   "execution_count": 148,
   "id": "architectural-arthur",
   "metadata": {},
   "outputs": [
    {
     "data": {
      "text/plain": [
       "tensor([0.8473, 0.8480, 0.0509, 0.7547, 0.9313, 0.9338, 0.9314, 0.0749, 0.8934,\n",
       "        0.8886, 0.0888, 0.8100])"
      ]
     },
     "execution_count": 148,
     "metadata": {},
     "output_type": "execute_result"
    }
   ],
   "source": [
    "edge_mask[edge_mask_hard]"
   ]
  }
 ],
 "metadata": {
  "kernelspec": {
   "display_name": "Python 3",
   "language": "python",
   "name": "python3"
  },
  "language_info": {
   "codemirror_mode": {
    "name": "ipython",
    "version": 3
   },
   "file_extension": ".py",
   "mimetype": "text/x-python",
   "name": "python",
   "nbconvert_exporter": "python",
   "pygments_lexer": "ipython3",
   "version": "3.8.5"
  }
 },
 "nbformat": 4,
 "nbformat_minor": 5
}
