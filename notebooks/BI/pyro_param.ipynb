{
 "cells": [
  {
   "cell_type": "code",
   "execution_count": 1,
   "metadata": {},
   "outputs": [
    {
     "name": "stderr",
     "output_type": "stream",
     "text": [
      "Loss -> 0.02824: 100%|██████████| 1000/1000 [00:22<00:00, 43.87it/s]\n"
     ]
    },
    {
     "data": {
      "text/plain": [
       "Net(\n",
       "  (conv1): GCNConv(1433, 32)\n",
       "  (conv2): GCNConv(32, 16)\n",
       "  (linear): Linear(in_features=16, out_features=7, bias=True)\n",
       ")"
      ]
     },
     "execution_count": 1,
     "metadata": {},
     "output_type": "execute_result"
    }
   ],
   "source": [
    "import os.path as osp\n",
    "\n",
    "import torch\n",
    "import torch.nn.functional as F\n",
    "import matplotlib.pyplot as plt\n",
    "from torch_geometric.datasets import Planetoid\n",
    "import torch_geometric.transforms as T\n",
    "from torch_geometric.nn import GCNConv, GNNExplainer\n",
    "\n",
    "from tqdm import tqdm\n",
    "\n",
    "dataset = 'Cora'\n",
    "path = osp.join('data', 'Planetoid')\n",
    "dataset = Planetoid(path, dataset, transform=T.NormalizeFeatures())\n",
    "data = dataset[0]\n",
    "\n",
    "\n",
    "class Net(torch.nn.Module):\n",
    "    def __init__(self):\n",
    "        super(Net, self).__init__()\n",
    "        self.conv1 = GCNConv(dataset.num_features, 32)\n",
    "        self.conv2 = GCNConv(32, 16)\n",
    "        self.linear = torch.nn.Linear(16, dataset.num_classes)\n",
    "\n",
    "    def forward(self, x, edge_index):\n",
    "        x = self.embed(x, edge_index)\n",
    "        x = self.linear(x)\n",
    "        return F.log_softmax(x, dim=1)\n",
    "    \n",
    "    def embed(self, x, edge_index):\n",
    "        x = F.relu(self.conv1(x, edge_index))\n",
    "        x = F.dropout(x, training=self.training)\n",
    "        x = F.relu(self.conv2(x, edge_index))\n",
    "        return x\n",
    "\n",
    "\n",
    "device = torch.device('cpu' if torch.cuda.is_available() else 'cpu')\n",
    "model = Net().to(device)\n",
    "data = data.to(device)\n",
    "optimizer = torch.optim.Adam(model.parameters(), lr=0.01, weight_decay=5e-4)\n",
    "x, edge_index = data.x, data.edge_index\n",
    "\n",
    "pbar = tqdm(range(1000))\n",
    "for epoch in pbar:\n",
    "    model.train()\n",
    "    optimizer.zero_grad()\n",
    "    log_logits = model(x, edge_index)\n",
    "    loss = F.nll_loss(log_logits[data.train_mask], data.y[data.train_mask])\n",
    "    loss.backward()\n",
    "    optimizer.step()\n",
    "    pbar.set_description(\"Loss -> %.5f\" % loss.item())\n",
    "model.eval()"
   ]
  },
  {
   "cell_type": "code",
   "execution_count": 2,
   "metadata": {},
   "outputs": [],
   "source": [
    "with torch.no_grad():\n",
    "    preds = model(x, edge_index)"
   ]
  },
  {
   "cell_type": "code",
   "execution_count": 3,
   "metadata": {},
   "outputs": [],
   "source": [
    "import seaborn as sns\n",
    "import pyro\n",
    "import pyro.distributions as dist\n",
    "from torch_geometric.utils import k_hop_subgraph, to_networkx\n",
    "import torch.distributions.constraints as constraints\n",
    "from torch_geometric.data import Data\n",
    "import networkx as nx\n",
    "from pyro.optim import Adam\n",
    "from pyro.infer import SVI, Trace_ELBO\n",
    "\n",
    "with torch.no_grad():\n",
    "    embeddings = model.embed(x, edge_index)\n",
    "\n",
    "in_dim = 3*embeddings.size(1)\n",
    "hidden_dim = 60\n",
    "out_dim = 2\n",
    "    \n",
    "seq = torch.nn.Sequential(torch.nn.Linear(in_dim, hidden_dim),\n",
    "                          torch.nn.LeakyReLU(),\n",
    "                          torch.nn.Linear(hidden_dim, hidden_dim),\n",
    "                          torch.nn.LeakyReLU(),\n",
    "                          torch.nn.Linear(hidden_dim, out_dim)).to(device)\n",
    "    \n",
    "def sample_model(X, y, edge_index, node_idx, mapping):\n",
    "    in_dim = 3*embeddings.size(1)\n",
    "    hidden_dim = 64\n",
    "    out_dim = 2\n",
    "    \n",
    "    #fc_mean1 = torch.zeros([hidden_dim, in_dim]).to(device)\n",
    "    #bias_mean1 = torch.zeros(hidden_dim).to(device)\n",
    "    #fc1 = pyro.sample(\"fc1\", dist.Normal(fc_mean1, 1).to_event(2))\n",
    "    #bias1 = pyro.sample(\"bias1\", dist.Normal(bias_mean1, 1).to_event(1))\n",
    "    \n",
    "    inp = torch.cat([embeddings[edge_index[0, :], :], embeddings[edge_index[1, :], :], \n",
    "                     embeddings[torch.repeat_interleave(torch.tensor(node_idx), edge_index.size(1)), :]], dim = -1)\n",
    "    #h = (fc1 @ inp.T).T + bias1\n",
    "    #h = F.leaky_relu(h)\n",
    "    \n",
    "    #fc_mean2 = torch.zeros([out_dim, hidden_dim]).to(device)\n",
    "    #bias_mean2 = torch.zeros(out_dim).to(device)\n",
    "    #fc2 = pyro.sample(\"fc2\", dist.Normal(fc_mean2, 1).to_event(2))\n",
    "    #bias2 = pyro.sample(\"bias2\", dist.Normal(bias_mean2, 1).to_event(1))\n",
    "    \n",
    "    #h = torch.abs((fc2 @ h.T).T + bias2).sigmoid().clamp(min=1e-5)\n",
    "    h = torch.abs(seq(inp)).clamp(min=1e-5)\n",
    "    \n",
    "    f = pyro.sample(\"latent_f\", dist.Beta(h[:, 0], h[:, 1]).to_event(1))\n",
    "    m = pyro.sample(\"mask\", dist.Bernoulli(f).to_event(1))\n",
    "    mean = model(X, edge_index[:, m == 1])[mapping].reshape(-1)\n",
    "    sigma = (0.0000000001 * torch.eye(mean.size(0))).to(device)\n",
    "    y_sample = pyro.sample(\"y\", dist.MultivariateNormal(mean, sigma), obs = y)"
   ]
  },
  {
   "cell_type": "code",
   "execution_count": 4,
   "metadata": {},
   "outputs": [],
   "source": [
    "def sample_guide(X, y, edge_index, node_idx, mapping):\n",
    "    in_dim = 3*embeddings.size(1)\n",
    "    hidden_dim = 64\n",
    "    out_dim = 2\n",
    "    \n",
    "    #fc_mean1 = torch.zeros([hidden_dim, in_dim]).to(device)\n",
    "    #bias_mean1 = torch.zeros(hidden_dim).to(device)\n",
    "    #fc_mean1_q = pyro.param(\"fc_mean1_q\", fc_mean1)\n",
    "    #bias_mean1_q = pyro.param(\"bias_mean1_q\", bias_mean1)\n",
    "    \n",
    "    #fc1 = pyro.sample(\"fc1\", dist.Normal(fc_mean1_q, 1).to_event(2))\n",
    "    #bias1 = pyro.sample(\"bias1\", dist.Normal(bias_mean1_q, 1).to_event(1))\n",
    "    \n",
    "    inp = torch.cat([embeddings[edge_index[0, :], :], embeddings[edge_index[1, :], :], \n",
    "                     embeddings[torch.repeat_interleave(torch.tensor(node_idx), edge_index.size(1)), :]], dim = -1)\n",
    "    #h = (fc1 @ inp.T).T + bias1\n",
    "    #h = F.leaky_relu(h)\n",
    "    \n",
    "    #fc_mean2 = torch.zeros([out_dim, hidden_dim]).to(device)\n",
    "    #bias_mean2 = torch.zeros(out_dim).to(device)\n",
    "    #fc_mean2_q = pyro.param(\"fc_mean2_q\", fc_mean2)\n",
    "    #bias_mean2_q = pyro.param(\"bias_mean2_q\", bias_mean2)\n",
    "    \n",
    "    #fc2 = pyro.sample(\"fc2\", dist.Normal(fc_mean2_q, 1).to_event(2))\n",
    "    #bias2 = pyro.sample(\"bias2\", dist.Normal(bias_mean2_q, 1).to_event(1))\n",
    "    \n",
    "    #h = torch.abs((fc2 @ h.T).T + bias2).sigmoid().clamp(min=1e-5)\n",
    "    pyro.module(\"seq\", seq)\n",
    "    h = torch.abs(seq(inp)).clamp(min=1e-5)\n",
    "    \n",
    "    f = pyro.sample(\"latent_f\", dist.Beta(h[:, 0], h[:, 1]).to_event(1))\n",
    "    m = pyro.sample(\"mask\", dist.Bernoulli(f).to_event(1))\n",
    "    \n",
    "    mean = model(X, edge_index[:, m == 1])[mapping].reshape(-1)\n",
    "    sigma = (0.0000000001 * torch.eye(X.size(0))).to(device)\n",
    "    sigma_q = pyro.param(\"sigma\", sigma, constraint=constraints.positive)"
   ]
  },
  {
   "cell_type": "code",
   "execution_count": 5,
   "metadata": {},
   "outputs": [],
   "source": [
    "def ma(l, window):\n",
    "    cumsum, moving_aves = [0], []\n",
    "\n",
    "    for i, x in enumerate(l, 1):\n",
    "        cumsum.append(cumsum[i-1] + x)\n",
    "        if i>=window:\n",
    "            moving_ave = (cumsum[i] - cumsum[i-window])/window\n",
    "            #can do stuff with moving_ave here\n",
    "            moving_aves.append(moving_ave)\n",
    "    return moving_aves"
   ]
  },
  {
   "cell_type": "code",
   "execution_count": 6,
   "metadata": {},
   "outputs": [
    {
     "name": "stderr",
     "output_type": "stream",
     "text": [
      "Loss -> 8477112832.0000: 100%|██████████| 203100/203100 [33:12<00:00, 112.04it/s]    "
     ]
    }
   ],
   "source": [
    "from pyro.optim import ClippedAdam\n",
    "from pyro.infer import SVI, Trace_ELBO\n",
    "\n",
    "adam_params = {\"lr\": 0.05, \"clip_norm\": 15.0}\n",
    "optimizer = ClippedAdam(adam_params)\n",
    "# setup the inference algorithm\n",
    "svi = SVI(sample_model, sample_guide, optimizer, loss=Trace_ELBO())\n",
    "\n",
    "n_steps = 75\n",
    "window = 500\n",
    "k = 2\n",
    "# do gradient steps\n",
    "pbar = tqdm(range(n_steps * x.size(0)))\n",
    "elbos = []\n",
    "for step in range(n_steps):\n",
    "    for node_idx in range(x.size(0)):\n",
    "        subset, edge_index_adj, mapping, edge_mask_hard = k_hop_subgraph(\n",
    "            node_idx, k, edge_index, relabel_nodes=True)\n",
    "        elbo = svi.step(x[subset,:], preds[node_idx, :], edge_index_adj, node_idx, mapping[0])\n",
    "        pbar.update(1)\n",
    "        elbos.append(elbo)\n",
    "        if step >= window:\n",
    "            avgs = ma(elbos[step-window-1:step], window)\n",
    "            disp = avgs[-1]\n",
    "        else:\n",
    "            disp = elbo\n",
    "        pbar.set_description(\"Loss -> %.4f\" % disp)"
   ]
  },
  {
   "cell_type": "code",
   "execution_count": 7,
   "metadata": {},
   "outputs": [
    {
     "data": {
      "text/plain": [
       "<matplotlib.axes._subplots.AxesSubplot at 0x7f85f26f0650>"
      ]
     },
     "execution_count": 7,
     "metadata": {},
     "output_type": "execute_result"
    },
    {
     "data": {
      "image/png": "[encoded data removed]",
      "text/plain": [
       "<Figure size 432x288 with 1 Axes>"
      ]
     },
     "metadata": {
      "needs_background": "light"
     },
     "output_type": "display_data"
    }
   ],
   "source": [
    "avgs = ma(elbos, window)\n",
    "sns.lineplot(x = range(len(avgs)), y = avgs)"
   ]
  },
  {
   "cell_type": "code",
   "execution_count": 8,
   "metadata": {},
   "outputs": [
    {
     "name": "stderr",
     "output_type": "stream",
     "text": [
      "Loss -> 8477112832.0000: 100%|██████████| 203100/203100 [33:30<00:00, 112.04it/s]"
     ]
    }
   ],
   "source": [
    "from pyro.infer import Predictive\n",
    "\n",
    "predictive = Predictive(sample_model, guide=sample_guide, num_samples=1000, return_sites=(\"latent_f\",))\n",
    "node_idx = 10\n",
    "subset, edge_index_adj, mapping, edge_mask_hard = k_hop_subgraph(\n",
    "            node_idx, k, edge_index, relabel_nodes=True)\n",
    "samples = predictive(x[subset, :], preds[node_idx, :], edge_index_adj, node_idx, mapping[0])"
   ]
  },
  {
   "cell_type": "code",
   "execution_count": 9,
   "metadata": {},
   "outputs": [
    {
     "data": {
      "text/plain": [
       "tensor([0.6932, 0.6968, 0.7060, 0.7213, 0.6985, 0.6809, 0.7260, 0.7233, 0.6734,\n",
       "        0.7003, 0.6999, 0.7129], grad_fn=<MeanBackward1>)"
      ]
     },
     "execution_count": 9,
     "metadata": {},
     "output_type": "execute_result"
    }
   ],
   "source": [
    "samples['latent_f'].mean(dim=0)"
   ]
  }
 ],
 "metadata": {
  "kernelspec": {
   "display_name": "Python 3",
   "language": "python",
   "name": "python3"
  },
  "language_info": {
   "codemirror_mode": {
    "name": "ipython",
    "version": 3
   },
   "file_extension": ".py",
   "mimetype": "text/x-python",
   "name": "python",
   "nbconvert_exporter": "python",
   "pygments_lexer": "ipython3",
   "version": "3.7.4"
  }
 },
 "nbformat": 4,
 "nbformat_minor": 4
}
