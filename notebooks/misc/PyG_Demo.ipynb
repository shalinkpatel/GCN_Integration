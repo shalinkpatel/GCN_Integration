{
 "cells": [
  {
   "cell_type": "markdown",
   "metadata": {},
   "source": [
    "### Defining a Convolution Layer\n",
    "In the cell below we define a simple convolution layer that aggregates from a $k$ hop neighborhood in an arbritrary graph. We have 5 basic steps.\n",
    "1. Add self-loops to the graph so that each update works on the neighboring information as well as the information stored in the node itself\n",
    "2. Apply a learnable layer\n",
    "3. Compute a normalization\n",
    "4. Normalize features\n",
    "5. Aggregate information from neighbors"
   ]
  },
  {
   "cell_type": "code",
   "execution_count": 1,
   "metadata": {},
   "outputs": [],
   "source": [
    "import torch\n",
    "from torch_geometric.nn import MessagePassing\n",
    "from torch_geometric.utils import add_self_loops, degree\n",
    "from tqdm import tqdm\n",
    "\n",
    "# Define the convlutional layer\n",
    "class GCNConv(MessagePassing):\n",
    "    def __init__(self, in_channels, out_channels, k=1):\n",
    "        super(GCNConv, self).__init__(aggr='add')  # \"Add\" aggregation (Step 5).\n",
    "        self.lin = torch.nn.Linear(in_channels, out_channels)\n",
    "        \n",
    "        # k represents the number of hops that we aggreate information from\n",
    "        self.k = k\n",
    "\n",
    "    def forward(self, x, edge_index):\n",
    "        # x has shape [N, in_channels]\n",
    "        # edge_index has shape [2, E]\n",
    "\n",
    "        # Step 1: Add self-loops to the adjacency matrix.\n",
    "        edge_index, _ = add_self_loops(edge_index, num_nodes=x.size(0))\n",
    "\n",
    "        # Run message passing across the k-hop neighborhoods of each node\n",
    "        for i in range(self.k):\n",
    "            # Step 2: Linearly transform node feature matrix only when all aggregation is complete.\n",
    "            if i == self.k - 1:\n",
    "                x = self.lin(x)\n",
    "\n",
    "            # Step 3: Compute normalization.\n",
    "            row, col = edge_index\n",
    "            deg = degree(col, x.size(0), dtype=x.dtype)\n",
    "            deg_inv_sqrt = deg.pow(-0.5)\n",
    "            norm = deg_inv_sqrt[row] * deg_inv_sqrt[col]\n",
    "\n",
    "            # Step 4-5: Start propagating messages.\n",
    "            x = self.propagate(edge_index, x=x, norm=norm)\n",
    "        return x\n",
    "\n",
    "    def message(self, x_j, norm):\n",
    "        # x_j has shape [E, out_channels]\n",
    "\n",
    "        # Step 4: Normalize node features.\n",
    "        return norm.view(-1, 1) * x_j"
   ]
  },
  {
   "cell_type": "markdown",
   "metadata": {},
   "source": [
    "### Overall Model\n",
    "Below we load the dataset using PyG's internal libraries. We use the standard Cora dataset of citation networks which is a useful baseline for all models. In addition, we define the model using the convolution layers from above. These can be swapped in and out for any of the models defined in the framework. Here we can adjust the $k$-hop neighborhood we pull data from and the $x$-sized hidden layer."
   ]
  },
  {
   "cell_type": "code",
   "execution_count": 2,
   "metadata": {},
   "outputs": [],
   "source": [
    "import os.path as osp\n",
    "\n",
    "import torch.nn.functional as F\n",
    "import matplotlib.pyplot as plt\n",
    "from torch_geometric.datasets import Planetoid\n",
    "import torch_geometric.transforms as T\n",
    "from torch_geometric.nn import GNNExplainer, ARMAConv\n",
    "\n",
    "# Loading in standard Cora citation dataset into current directory\n",
    "dataset = 'Cora'\n",
    "path = osp.join('.', 'data', 'Planetoid')\n",
    "dataset = Planetoid(path, dataset, transform=T.NormalizeFeatures())\n",
    "data = dataset[0]\n",
    "\n",
    "# Define the model\n",
    "class Net(torch.nn.Module):\n",
    "    def __init__(self, k=1, x=16):\n",
    "        super(Net, self).__init__()\n",
    "        self.conv1 = GCNConv(dataset.num_features, x, k)\n",
    "        self.conv2 = GCNConv(x, x, k)\n",
    "        self.conv3 = GCNConv(x, dataset.num_classes, k)\n",
    "\n",
    "    def forward(self, x, edge_index):\n",
    "        x = F.relu(self.conv1(x, edge_index))\n",
    "        x = F.dropout(x, training=self.training)\n",
    "        x = F.relu(self.conv2(x, edge_index))\n",
    "        x = F.dropout(x, training=self.training)\n",
    "        x = self.conv3(x, edge_index)\n",
    "        return F.log_softmax(x, dim=1)"
   ]
  },
  {
   "cell_type": "markdown",
   "metadata": {},
   "source": [
    "### Training the Model\n",
    "Below we first load the data into the gpu using pytorch's usual functionality. Then we train the model for 500 epochs while maintaining the best test AUC throughout."
   ]
  },
  {
   "cell_type": "code",
   "execution_count": 3,
   "metadata": {},
   "outputs": [
    {
     "name": "stderr",
     "output_type": "stream",
     "text": [
      "Best Test Lost: 0.878: 100%|██████████| 501/501 [00:09<00:00, 53.57it/s]\n"
     ]
    }
   ],
   "source": [
    "# Load everything onto the gpu if available\n",
    "device = torch.device('cuda' if torch.cuda.is_available() else 'cpu')\n",
    "# k is the number of aggregation hops and x is the hidden feature size\n",
    "model = Net(k=10, x=8).to(device)\n",
    "data = data.to(device)\n",
    "optimizer = torch.optim.Adam(model.parameters(), lr=0.01, weight_decay=5e-4)\n",
    "x, edge_index = data.x, data.edge_index\n",
    "\n",
    "pbar = tqdm(range(0, 501))\n",
    "best_loss = 100\n",
    "for epoch in pbar:\n",
    "    # Training step\n",
    "    model.train()\n",
    "    optimizer.zero_grad()\n",
    "    log_logits = model(x, edge_index)\n",
    "    loss = F.nll_loss(log_logits[data.train_mask], data.y[data.train_mask])\n",
    "    loss.backward()\n",
    "    optimizer.step()\n",
    "    \n",
    "    # Testing step\n",
    "    model.eval()\n",
    "    test_loss = F.nll_loss(log_logits[data.test_mask], data.y[data.test_mask]).item()\n",
    "    best_loss = test_loss if test_loss < best_loss else best_loss\n",
    "    pbar.set_description('Best Test Lost: %.3f' % (best_loss))"
   ]
  },
  {
   "cell_type": "markdown",
   "metadata": {},
   "source": [
    "### Explaining our Model\n",
    "Since the model is defined and trained within the PyG framework, we can apply any number of analysis tools from its ecosystem. The one below is called GNNExplainer and is useful in determing edge and node feature importance."
   ]
  },
  {
   "cell_type": "code",
   "execution_count": 10,
   "metadata": {},
   "outputs": [
    {
     "name": "stderr",
     "output_type": "stream",
     "text": [
      "Explain node 800: 100%|██████████| 1000/1000 [00:17<00:00, 57.00it/s]\n"
     ]
    },
    {
     "data": {
      "image/png": "[encoded data removed]",
      "text/plain": [
       "<Figure size 432x288 with 1 Axes>"
      ]
     },
     "metadata": {},
     "output_type": "display_data"
    }
   ],
   "source": [
    "# Define GNNExplainer and run it for node 10\n",
    "explainer = GNNExplainer(model, epochs=1000, num_hops=2)\n",
    "node_idx = 800\n",
    "node_feat_mask, edge_mask = explainer.explain_node(node_idx, x, edge_index)\n",
    "ax, G = explainer.visualize_subgraph(node_idx, edge_index, edge_mask, y=data.y)\n",
    "plt.show()"
   ]
  },
  {
   "cell_type": "markdown",
   "metadata": {},
   "source": [
    "For more info visit https://github.com/rusty1s/pytorch_geometric. Example above was pieced together from there along with modifications."
   ]
  }
 ],
 "metadata": {
  "kernelspec": {
   "display_name": "Python 3",
   "language": "python",
   "name": "python3"
  },
  "language_info": {
   "codemirror_mode": {
    "name": "ipython",
    "version": 3
   },
   "file_extension": ".py",
   "mimetype": "text/x-python",
   "name": "python",
   "nbconvert_exporter": "python",
   "pygments_lexer": "ipython3",
   "version": "3.7.4"
  }
 },
 "nbformat": 4,
 "nbformat_minor": 4
}
